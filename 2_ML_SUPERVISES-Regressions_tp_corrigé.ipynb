{
 "cells": [
  {
   "cell_type": "code",
   "execution_count": 4,
   "metadata": {},
   "outputs": [],
   "source": [
    "import numpy as np\n",
    "import pandas as pd\n",
    "import matplotlib.pyplot as plt\n",
    "from sklearn.datasets import load_iris"
   ]
  },
  {
   "cell_type": "code",
   "execution_count": 5,
   "metadata": {},
   "outputs": [],
   "source": [
    "# Récupérer les données\n",
    "\n",
    "#iris = load_iris()\n",
    "#L = iris.data\n",
    "#y = iris.target\n",
    "\n",
    "data = pd.read_csv(\"input/TP1_Heart_disease_reg.csv\")\n",
    "#iris = load_iris()\n",
    "X = data.drop([\"age\"], axis=1)\n",
    "y = data[\"age\"]\n"
   ]
  },
  {
   "cell_type": "code",
   "execution_count": 6,
   "metadata": {},
   "outputs": [],
   "source": [
    "#y = pd.DataFrame(L).iloc[:, 0]\n",
    "#X = pd.DataFrame(L).iloc[:, 1:4]\n"
   ]
  },
  {
   "cell_type": "markdown",
   "metadata": {},
   "source": [
    "# Modélisons"
   ]
  },
  {
   "cell_type": "markdown",
   "metadata": {},
   "source": [
    "## Split des bases"
   ]
  },
  {
   "cell_type": "code",
   "execution_count": 7,
   "metadata": {},
   "outputs": [],
   "source": [
    "from sklearn.model_selection import train_test_split"
   ]
  },
  {
   "cell_type": "code",
   "execution_count": 8,
   "metadata": {},
   "outputs": [
    {
     "name": "stdout",
     "output_type": "stream",
     "text": [
      "Train set: (242, 12)\n",
      "Test set: (61, 12)\n"
     ]
    }
   ],
   "source": [
    "X_train, X_test, y_train, y_test = train_test_split(X, y, test_size=0.2, random_state=5)\n",
    "\n",
    "print('Train set:', X_train.shape)\n",
    "print('Test set:', X_test.shape)"
   ]
  },
  {
   "cell_type": "markdown",
   "metadata": {},
   "source": [
    "## Modèles"
   ]
  },
  {
   "cell_type": "markdown",
   "metadata": {},
   "source": [
    "### 1er modèle : KNN"
   ]
  },
  {
   "cell_type": "code",
   "execution_count": 21,
   "metadata": {},
   "outputs": [],
   "source": [
    "from sklearn.neighbors import KNeighborsRegressor\n",
    "from sklearn.metrics import r2_score"
   ]
  },
  {
   "cell_type": "code",
   "execution_count": 10,
   "metadata": {},
   "outputs": [],
   "source": [
    "# déclaration de l'intention de knn\n",
    "knn = KNeighborsRegressor(n_neighbors=1)"
   ]
  },
  {
   "cell_type": "code",
   "execution_count": 11,
   "metadata": {},
   "outputs": [
    {
     "data": {
      "text/plain": [
       "KNeighborsRegressor(n_neighbors=1)"
      ]
     },
     "execution_count": 11,
     "metadata": {},
     "output_type": "execute_result"
    }
   ],
   "source": [
    "# Entrainement du modèle\n",
    "knn.fit(X_train, y_train)"
   ]
  },
  {
   "cell_type": "code",
   "execution_count": 18,
   "metadata": {},
   "outputs": [
    {
     "data": {
      "text/plain": [
       "-0.6583269323174271"
      ]
     },
     "execution_count": 18,
     "metadata": {},
     "output_type": "execute_result"
    }
   ],
   "source": [
    "cross_val_score(KNeighborsRegressor(1), X_train, y_train, cv=5).mean()"
   ]
  },
  {
   "cell_type": "code",
   "execution_count": 19,
   "metadata": {},
   "outputs": [
    {
     "name": "stdout",
     "output_type": "stream",
     "text": [
      "train score: 1.0\n"
     ]
    }
   ],
   "source": [
    "print('train score:', knn.score(X_train, y_train))"
   ]
  },
  {
   "cell_type": "markdown",
   "metadata": {},
   "source": [
    "# Evaluation"
   ]
  },
  {
   "cell_type": "markdown",
   "metadata": {},
   "source": [
    "## Evaluation simple"
   ]
  },
  {
   "cell_type": "code",
   "execution_count": 29,
   "metadata": {},
   "outputs": [
    {
     "name": "stdout",
     "output_type": "stream",
     "text": [
      "test Mean Absolute Error: 10.475409836065573\n",
      "test Mean Squared Error: 168.01639344262296\n",
      "test Root Mean Squared Error: 12.96211377216783\n",
      "test R2: -0.8315618939362865\n",
      "train Mean Absolute Error: 0.0\n",
      "train Mean Squared Error: 0.0\n",
      "train Root Mean Squared Error: 0.0\n",
      "train R2: 1.0\n"
     ]
    }
   ],
   "source": [
    "# Evaluation\n",
    "from sklearn import metrics\n",
    "print('test Mean Absolute Error:', metrics.mean_absolute_error(y_test, knn.predict(X_test)))  \n",
    "print('test Mean Squared Error:', metrics.mean_squared_error(y_test, knn.predict(X_test)))  \n",
    "print('test Root Mean Squared Error:', np.sqrt(metrics.mean_squared_error(y_test, knn.predict(X_test))))\n",
    "print('test R2:', r2_score(y_test, knn.predict(X_test)))\n",
    "\n",
    "\"\\n\"\n",
    "\n",
    "\n",
    "print('train Mean Absolute Error:', metrics.mean_absolute_error(y_train, knn.predict(X_train)))  \n",
    "print('train Mean Squared Error:', metrics.mean_squared_error(y_train, knn.predict(X_train)))  \n",
    "print('train Root Mean Squared Error:', np.sqrt(metrics.mean_squared_error(y_train, knn.predict(X_train))))\n",
    "print('train R2:', r2_score(y_train, knn.predict(X_train)))"
   ]
  },
  {
   "cell_type": "markdown",
   "metadata": {},
   "source": [
    "### Déterminons le k optimal de façon manuelle"
   ]
  },
  {
   "cell_type": "code",
   "execution_count": 13,
   "metadata": {},
   "outputs": [
    {
     "data": {
      "text/plain": [
       "[<matplotlib.lines.Line2D at 0x2470f8c82e0>]"
      ]
     },
     "execution_count": 13,
     "metadata": {},
     "output_type": "execute_result"
    },
    {
     "data": {
      "image/png": "[encoded data removed]",
      "text/plain": [
       "<Figure size 432x288 with 1 Axes>"
      ]
     },
     "metadata": {
      "needs_background": "light"
     },
     "output_type": "display_data"
    }
   ],
   "source": [
    "from sklearn.model_selection import cross_val_score\n",
    "val_score = []\n",
    "for k in range(1, 50):\n",
    "    score = cross_val_score(KNeighborsRegressor(k), X_train, y_train, cv=5).mean()\n",
    "    val_score.append(score)\n",
    "\n",
    "plt.plot(val_score)"
   ]
  },
  {
   "cell_type": "markdown",
   "metadata": {},
   "source": [
    "## Courbe d'apprentissage"
   ]
  },
  {
   "cell_type": "code",
   "execution_count": 14,
   "metadata": {},
   "outputs": [],
   "source": [
    "from sklearn.model_selection import learning_curve"
   ]
  },
  {
   "cell_type": "code",
   "execution_count": 15,
   "metadata": {},
   "outputs": [],
   "source": [
    "N, train_score, val_score = learning_curve(knn, X_train, y_train, train_sizes=np.linspace(0.1, 1, 10), cv=5)"
   ]
  },
  {
   "cell_type": "code",
   "execution_count": 16,
   "metadata": {},
   "outputs": [
    {
     "data": {
      "text/plain": [
       "<matplotlib.legend.Legend at 0x2470fbe3b50>"
      ]
     },
     "execution_count": 16,
     "metadata": {},
     "output_type": "execute_result"
    },
    {
     "data": {
      "image/png": "[encoded data removed]",
      "text/plain": [
       "<Figure size 432x288 with 1 Axes>"
      ]
     },
     "metadata": {
      "needs_background": "light"
     },
     "output_type": "display_data"
    }
   ],
   "source": [
    "plt.plot(N, train_score.mean(axis=1), label='train')\n",
    "plt.plot(N, val_score.mean(axis=1), label='validation')\n",
    "plt.xlabel('train_sizes')\n",
    "plt.legend()"
   ]
  },
  {
   "cell_type": "markdown",
   "metadata": {},
   "source": [
    "## 2eme modèle"
   ]
  },
  {
   "cell_type": "code",
   "execution_count": 32,
   "metadata": {},
   "outputs": [],
   "source": [
    "from sklearn.ensemble import RandomForestRegressor"
   ]
  },
  {
   "cell_type": "code",
   "execution_count": 33,
   "metadata": {},
   "outputs": [],
   "source": [
    "rf = RandomForestRegressor(max_depth=2, random_state=0)"
   ]
  },
  {
   "cell_type": "code",
   "execution_count": 37,
   "metadata": {},
   "outputs": [
    {
     "data": {
      "text/plain": [
       "RandomForestRegressor(max_depth=2, random_state=0)"
      ]
     },
     "execution_count": 37,
     "metadata": {},
     "output_type": "execute_result"
    }
   ],
   "source": [
    "# Entrainement du modèle\n",
    "rf.fit(X_train, y_train)"
   ]
  },
  {
   "cell_type": "code",
   "execution_count": 38,
   "metadata": {},
   "outputs": [
    {
     "name": "stdout",
     "output_type": "stream",
     "text": [
      "test Mean Absolute Error: 6.372096961746862\n",
      "test Mean Squared Error: 66.2563028702545\n",
      "test Root Mean Squared Error: 8.139797471083325\n",
      "test R2: 0.27773405270896356\n",
      "train Mean Absolute Error: 5.894369257227763\n",
      "train Mean Squared Error: 51.6450413996942\n",
      "train Root Mean Squared Error: 7.186448455231151\n",
      "train R2: 0.352917170962019\n"
     ]
    }
   ],
   "source": [
    "# Evaluation\n",
    "from sklearn import metrics\n",
    "\n",
    "print('test Mean Absolute Error:', metrics.mean_absolute_error(y_test, rf.predict(X_test)))  \n",
    "print('test Mean Squared Error:', metrics.mean_squared_error(y_test, rf.predict(X_test)))  \n",
    "print('test Root Mean Squared Error:', np.sqrt(metrics.mean_squared_error(y_test, rf.predict(X_test))))\n",
    "print('test R2:', r2_score(y_test, rf.predict(X_test)))\n",
    "\n",
    "\"\\n\"\n",
    "\n",
    "\n",
    "print('train Mean Absolute Error:', metrics.mean_absolute_error(y_train, rf.predict(X_train)))  \n",
    "print('train Mean Squared Error:', metrics.mean_squared_error(y_train, rf.predict(X_train)))  \n",
    "print('train Root Mean Squared Error:', np.sqrt(metrics.mean_squared_error(y_train, rf.predict(X_train))))\n",
    "print('train R2:', r2_score(y_train, rf.predict(X_train)))"
   ]
  },
  {
   "cell_type": "markdown",
   "metadata": {},
   "source": [
    "## 3eme modèle : L'arbre de décision"
   ]
  },
  {
   "cell_type": "code",
   "execution_count": 41,
   "metadata": {},
   "outputs": [],
   "source": [
    "from sklearn.tree import DecisionTreeRegressor\n",
    "dt = DecisionTreeRegressor()"
   ]
  },
  {
   "cell_type": "code",
   "execution_count": 42,
   "metadata": {},
   "outputs": [
    {
     "data": {
      "text/plain": [
       "DecisionTreeRegressor()"
      ]
     },
     "execution_count": 42,
     "metadata": {},
     "output_type": "execute_result"
    }
   ],
   "source": [
    "# Entrainement du modèle\n",
    "dt.fit(X_train, y_train)"
   ]
  },
  {
   "cell_type": "code",
   "execution_count": 43,
   "metadata": {},
   "outputs": [
    {
     "name": "stdout",
     "output_type": "stream",
     "text": [
      "test Mean Absolute Error: 8.573770491803279\n",
      "test Mean Squared Error: 132.60655737704917\n",
      "test Root Mean Squared Error: 11.515492059701538\n",
      "test R2: -0.4455560698654133\n",
      "train Mean Absolute Error: 0.0\n",
      "train Mean Squared Error: 0.0\n",
      "train Root Mean Squared Error: 0.0\n",
      "train R2: 0.352917170962019\n"
     ]
    }
   ],
   "source": [
    "# Evaluation\n",
    "from sklearn import metrics\n",
    "print('test Mean Absolute Error:', metrics.mean_absolute_error(y_test, dt.predict(X_test)))  \n",
    "print('test Mean Squared Error:', metrics.mean_squared_error(y_test, dt.predict(X_test)))  \n",
    "print('test Root Mean Squared Error:', np.sqrt(metrics.mean_squared_error(y_test, dt.predict(X_test))))\n",
    "print('test R2:', r2_score(y_test, dt.predict(X_test)))\n",
    "\n",
    "\"\\n\"\n",
    "\n",
    "\n",
    "print('train Mean Absolute Error:', metrics.mean_absolute_error(y_train, dt.predict(X_train)))  \n",
    "print('train Mean Squared Error:', metrics.mean_squared_error(y_train, dt.predict(X_train)))  \n",
    "print('train Root Mean Squared Error:', np.sqrt(metrics.mean_squared_error(y_train, dt.predict(X_train))))\n",
    "print('train R2:', r2_score(y_train, rf.predict(X_train)))"
   ]
  },
  {
   "cell_type": "markdown",
   "metadata": {},
   "source": [
    "## 4eme modèle : Les regressions"
   ]
  },
  {
   "cell_type": "code",
   "execution_count": 44,
   "metadata": {},
   "outputs": [],
   "source": [
    "from sklearn.linear_model import LinearRegression\n",
    "from sklearn.metrics import mean_squared_error\n",
    "from sklearn.metrics import r2_score\n",
    "from sklearn.preprocessing import PolynomialFeatures"
   ]
  },
  {
   "cell_type": "markdown",
   "metadata": {},
   "source": [
    "### transformation des variables"
   ]
  },
  {
   "cell_type": "code",
   "execution_count": 45,
   "metadata": {},
   "outputs": [],
   "source": [
    "# modèles\n",
    "\n",
    "polynomial_features= PolynomialFeatures(degree=3)\n",
    "X_train_poly = polynomial_features.fit_transform(X_train)\n",
    "X_test_poly = polynomial_features.fit_transform(X_test)\n",
    "    "
   ]
  },
  {
   "cell_type": "markdown",
   "metadata": {},
   "source": [
    "### entrainement du modèle"
   ]
  },
  {
   "cell_type": "code",
   "execution_count": 51,
   "metadata": {},
   "outputs": [
    {
     "data": {
      "text/plain": [
       "LinearRegression()"
      ]
     },
     "execution_count": 51,
     "metadata": {},
     "output_type": "execute_result"
    }
   ],
   "source": [
    "linreg = LinearRegression()\n",
    "linreg.fit(X_train_poly, y_train)"
   ]
  },
  {
   "cell_type": "markdown",
   "metadata": {},
   "source": [
    "### Evaluation du modèle"
   ]
  },
  {
   "cell_type": "code",
   "execution_count": 52,
   "metadata": {},
   "outputs": [],
   "source": [
    "y_train_predict = linreg.predict(X_train_poly)\n",
    "y_test_predict = linreg.predict(X_test_poly)\n",
    "\n",
    "mse_train = mean_squared_error(y_train, y_train_predict)\n",
    "rmse_train = (np.sqrt(mse_train))\n",
    "r2_train = r2_score(y_train, y_train_predict)\n",
    "\n",
    "\n",
    "mse_test = mean_squared_error(y_test, y_test_predict)\n",
    "rmse_test = (np.sqrt(mse_test))\n",
    "r2_test = r2_score(y_test, y_test_predict)\n"
   ]
  },
  {
   "cell_type": "code",
   "execution_count": 53,
   "metadata": {},
   "outputs": [
    {
     "name": "stdout",
     "output_type": "stream",
     "text": [
      "La performance du modèle sur la base dapprentissage\n",
      "--------------------------------------\n",
      "mse du train 1.497909371666909e-16  et test 13015.436632901336\n",
      "L'erreur quadratique moyenne du train est 1.223891078350892e-08  et test est 114.08521653966098\n",
      "le score R2 du train est 1.0  et test est -140.8824513567796\n",
      "\n",
      "\n"
     ]
    }
   ],
   "source": [
    "print('La performance du modèle sur la base dapprentissage')\n",
    "print('--------------------------------------')\n",
    "print('mse du train {}'.format(mse_train), ' et test {}'.format(mse_test))\n",
    "print(\"L'erreur quadratique moyenne du train est {}\".format(rmse_train), \" et test est {}\".format(rmse_test))\n",
    "print('le score R2 du train est {}'.format(r2_train), ' et test est {}'.format(r2_test))\n",
    "print('\\n')"
   ]
  }
 ],
 "metadata": {
  "kernelspec": {
   "display_name": "Python 3 (ipykernel)",
   "language": "python",
   "name": "python3"
  },
  "language_info": {
   "codemirror_mode": {
    "name": "ipython",
    "version": 3
   },
   "file_extension": ".py",
   "mimetype": "text/x-python",
   "name": "python",
   "nbconvert_exporter": "python",
   "pygments_lexer": "ipython3",
   "version": "3.11.3"
  }
 },
 "nbformat": 4,
 "nbformat_minor": 4
}
