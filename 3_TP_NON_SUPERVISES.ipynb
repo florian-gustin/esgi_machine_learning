{
 "cells": [
  {
   "cell_type": "markdown",
   "metadata": {
    "colab_type": "text",
    "id": "view-in-github"
   },
   "source": [
    "<a href=\"https://colab.research.google.com/github/MachineLearnia/Python-Machine-Learning/blob/master/24%20-%20Sklearn%20%3A%20Apprentissage%20Non-supervis%C3%A9.ipynb\" target=\"_parent\"><img src=\"https://colab.research.google.com/assets/colab-badge.svg\" alt=\"Open In Colab\"/></a>"
   ]
  },
  {
   "cell_type": "markdown",
   "metadata": {
    "colab_type": "text",
    "id": "JJHL6LQpG6np"
   },
   "source": [
    "# 24/30 Apprentissage Non-Supervisé"
   ]
  },
  {
   "cell_type": "code",
   "execution_count": 3,
   "outputs": [],
   "source": [
    "run /Users/floriangustin/Documents/esgi_machine_learning/templates/modules/chargement_data.ipynb"
   ],
   "metadata": {
    "collapsed": false,
    "ExecuteTime": {
     "end_time": "2023-05-12T18:09:28.697887Z",
     "start_time": "2023-05-12T18:09:28.456540Z"
    }
   }
  },
  {
   "cell_type": "code",
   "execution_count": 4,
   "metadata": {
    "colab": {},
    "colab_type": "code",
    "id": "6w1Nit4_Fk5L",
    "ExecuteTime": {
     "end_time": "2023-05-12T18:09:29.560161Z",
     "start_time": "2023-05-12T18:09:29.558014Z"
    }
   },
   "outputs": [],
   "source": [
    "import numpy as np\n",
    "import matplotlib.pyplot as plt\n",
    "from sklearn.datasets import make_blobs\n",
    "from sklearn import metrics"
   ]
  },
  {
   "cell_type": "markdown",
   "metadata": {
    "colab_type": "text",
    "id": "AbMWrDTWHOMD",
    "ExecuteTime": {
     "end_time": "2023-05-12T10:13:41.204593Z",
     "start_time": "2023-05-12T10:13:41.159665Z"
    }
   },
   "source": [
    "## 1. K-Means Clustering"
   ],
   "outputs": [
    {
     "data": {
      "text/plain": "   Unnamed: 0           ID_region_name    regime_status_name  \\\n0          92  Latin America/Caribbean  Authoritarian Regime   \n1          93  Latin America/Caribbean  Authoritarian Regime   \n2          94  Latin America/Caribbean  Authoritarian Regime   \n3          95  Latin America/Caribbean  Authoritarian Regime   \n4          96  Latin America/Caribbean  Authoritarian Regime   \n5          97  Latin America/Caribbean  Authoritarian Regime   \n6          98  Latin America/Caribbean  Authoritarian Regime   \n7          99  Latin America/Caribbean  Authoritarian Regime   \n8         100  Latin America/Caribbean  Authoritarian Regime   \n9         101  Latin America/Caribbean  Authoritarian Regime   \n\n  democratic_performance_name  var1      var2  var3      var4      var5  \\\n0        Authoritarian Regime   0.0 -0.062670   0.0  0.330715  0.330127   \n1        Authoritarian Regime   0.0 -0.065269   0.0  0.330715  0.330127   \n2        Authoritarian Regime   0.0 -0.065790   0.0  0.330715  0.330127   \n3        Authoritarian Regime   0.0 -0.065192   0.0  0.330715  0.330127   \n4        Authoritarian Regime   0.0 -0.066090   0.0  0.330715  0.330127   \n5        Authoritarian Regime   0.0 -0.064680   0.0  0.330715  0.330127   \n6        Authoritarian Regime   0.0 -0.065873   0.0  0.330715  0.330127   \n7        Authoritarian Regime   0.0 -0.063096   0.0  0.330715  0.330127   \n8        Authoritarian Regime   0.0 -0.063839   0.0  0.330715  0.330127   \n9        Authoritarian Regime   0.0 -0.064883   0.0  0.330715  0.330127   \n\n       var6  ...     var40     var41  var42     var43     var44     var45  \\\n0  0.179037  ...  0.180992  0.288332    0.0  0.337776  0.388765  0.331424   \n1  0.179037  ...  0.180992  0.288332    0.0  0.337776  0.388765  0.331424   \n2  0.179037  ...  0.180992  0.288332    0.0  0.337776  0.388765  0.331424   \n3  0.179037  ...  0.180992  0.288332    0.0  0.337776  0.388765  0.331424   \n4  0.179037  ...  0.180992  0.288332    0.0  0.337776  0.388765  0.331424   \n5  0.179037  ...  0.180992  0.288332    0.0  0.337776  0.388765  0.331424   \n6  0.179037  ...  0.180992  0.288332    0.0  0.337776  0.388765  0.331424   \n7  0.179037  ...  0.180992  0.288332    0.0  0.337776  0.388765  0.331424   \n8  0.179037  ...  0.180992  0.288332    0.0  0.337776  0.388765  0.331424   \n9  0.179037  ...  0.180992  0.288332    0.0  0.337776  0.388765  0.331424   \n\n      var46     var47  democratic_performance_numeric  regime_status_name_rec  \n0  0.662383  0.472222                             5.0                     1.0  \n1  0.662383  0.472222                             5.0                     1.0  \n2  0.662383  0.472222                             5.0                     1.0  \n3  0.662383  0.472222                             5.0                     1.0  \n4  0.662383  0.472222                             5.0                     1.0  \n5  0.662383  0.472222                             5.0                     1.0  \n6  0.662383  0.472222                             5.0                     1.0  \n7  0.662383  0.472222                             5.0                     1.0  \n8  0.662383  0.472222                             5.0                     1.0  \n9  0.662383  0.472222                             5.0                     1.0  \n\n[10 rows x 53 columns]",
      "text/html": "<div>\n<style scoped>\n    .dataframe tbody tr th:only-of-type {\n        vertical-align: middle;\n    }\n\n    .dataframe tbody tr th {\n        vertical-align: top;\n    }\n\n    .dataframe thead th {\n        text-align: right;\n    }\n</style>\n<table border=\"1\" class=\"dataframe\">\n  <thead>\n    <tr style=\"text-align: right;\">\n      <th></th>\n      <th>Unnamed: 0</th>\n      <th>ID_region_name</th>\n      <th>regime_status_name</th>\n      <th>democratic_performance_name</th>\n      <th>var1</th>\n      <th>var2</th>\n      <th>var3</th>\n      <th>var4</th>\n      <th>var5</th>\n      <th>var6</th>\n      <th>...</th>\n      <th>var40</th>\n      <th>var41</th>\n      <th>var42</th>\n      <th>var43</th>\n      <th>var44</th>\n      <th>var45</th>\n      <th>var46</th>\n      <th>var47</th>\n      <th>democratic_performance_numeric</th>\n      <th>regime_status_name_rec</th>\n    </tr>\n  </thead>\n  <tbody>\n    <tr>\n      <th>0</th>\n      <td>92</td>\n      <td>Latin America/Caribbean</td>\n      <td>Authoritarian Regime</td>\n      <td>Authoritarian Regime</td>\n      <td>0.0</td>\n      <td>-0.062670</td>\n      <td>0.0</td>\n      <td>0.330715</td>\n      <td>0.330127</td>\n      <td>0.179037</td>\n      <td>...</td>\n      <td>0.180992</td>\n      <td>0.288332</td>\n      <td>0.0</td>\n      <td>0.337776</td>\n      <td>0.388765</td>\n      <td>0.331424</td>\n      <td>0.662383</td>\n      <td>0.472222</td>\n      <td>5.0</td>\n      <td>1.0</td>\n    </tr>\n    <tr>\n      <th>1</th>\n      <td>93</td>\n      <td>Latin America/Caribbean</td>\n      <td>Authoritarian Regime</td>\n      <td>Authoritarian Regime</td>\n      <td>0.0</td>\n      <td>-0.065269</td>\n      <td>0.0</td>\n      <td>0.330715</td>\n      <td>0.330127</td>\n      <td>0.179037</td>\n      <td>...</td>\n      <td>0.180992</td>\n      <td>0.288332</td>\n      <td>0.0</td>\n      <td>0.337776</td>\n      <td>0.388765</td>\n      <td>0.331424</td>\n      <td>0.662383</td>\n      <td>0.472222</td>\n      <td>5.0</td>\n      <td>1.0</td>\n    </tr>\n    <tr>\n      <th>2</th>\n      <td>94</td>\n      <td>Latin America/Caribbean</td>\n      <td>Authoritarian Regime</td>\n      <td>Authoritarian Regime</td>\n      <td>0.0</td>\n      <td>-0.065790</td>\n      <td>0.0</td>\n      <td>0.330715</td>\n      <td>0.330127</td>\n      <td>0.179037</td>\n      <td>...</td>\n      <td>0.180992</td>\n      <td>0.288332</td>\n      <td>0.0</td>\n      <td>0.337776</td>\n      <td>0.388765</td>\n      <td>0.331424</td>\n      <td>0.662383</td>\n      <td>0.472222</td>\n      <td>5.0</td>\n      <td>1.0</td>\n    </tr>\n    <tr>\n      <th>3</th>\n      <td>95</td>\n      <td>Latin America/Caribbean</td>\n      <td>Authoritarian Regime</td>\n      <td>Authoritarian Regime</td>\n      <td>0.0</td>\n      <td>-0.065192</td>\n      <td>0.0</td>\n      <td>0.330715</td>\n      <td>0.330127</td>\n      <td>0.179037</td>\n      <td>...</td>\n      <td>0.180992</td>\n      <td>0.288332</td>\n      <td>0.0</td>\n      <td>0.337776</td>\n      <td>0.388765</td>\n      <td>0.331424</td>\n      <td>0.662383</td>\n      <td>0.472222</td>\n      <td>5.0</td>\n      <td>1.0</td>\n    </tr>\n    <tr>\n      <th>4</th>\n      <td>96</td>\n      <td>Latin America/Caribbean</td>\n      <td>Authoritarian Regime</td>\n      <td>Authoritarian Regime</td>\n      <td>0.0</td>\n      <td>-0.066090</td>\n      <td>0.0</td>\n      <td>0.330715</td>\n      <td>0.330127</td>\n      <td>0.179037</td>\n      <td>...</td>\n      <td>0.180992</td>\n      <td>0.288332</td>\n      <td>0.0</td>\n      <td>0.337776</td>\n      <td>0.388765</td>\n      <td>0.331424</td>\n      <td>0.662383</td>\n      <td>0.472222</td>\n      <td>5.0</td>\n      <td>1.0</td>\n    </tr>\n    <tr>\n      <th>5</th>\n      <td>97</td>\n      <td>Latin America/Caribbean</td>\n      <td>Authoritarian Regime</td>\n      <td>Authoritarian Regime</td>\n      <td>0.0</td>\n      <td>-0.064680</td>\n      <td>0.0</td>\n      <td>0.330715</td>\n      <td>0.330127</td>\n      <td>0.179037</td>\n      <td>...</td>\n      <td>0.180992</td>\n      <td>0.288332</td>\n      <td>0.0</td>\n      <td>0.337776</td>\n      <td>0.388765</td>\n      <td>0.331424</td>\n      <td>0.662383</td>\n      <td>0.472222</td>\n      <td>5.0</td>\n      <td>1.0</td>\n    </tr>\n    <tr>\n      <th>6</th>\n      <td>98</td>\n      <td>Latin America/Caribbean</td>\n      <td>Authoritarian Regime</td>\n      <td>Authoritarian Regime</td>\n      <td>0.0</td>\n      <td>-0.065873</td>\n      <td>0.0</td>\n      <td>0.330715</td>\n      <td>0.330127</td>\n      <td>0.179037</td>\n      <td>...</td>\n      <td>0.180992</td>\n      <td>0.288332</td>\n      <td>0.0</td>\n      <td>0.337776</td>\n      <td>0.388765</td>\n      <td>0.331424</td>\n      <td>0.662383</td>\n      <td>0.472222</td>\n      <td>5.0</td>\n      <td>1.0</td>\n    </tr>\n    <tr>\n      <th>7</th>\n      <td>99</td>\n      <td>Latin America/Caribbean</td>\n      <td>Authoritarian Regime</td>\n      <td>Authoritarian Regime</td>\n      <td>0.0</td>\n      <td>-0.063096</td>\n      <td>0.0</td>\n      <td>0.330715</td>\n      <td>0.330127</td>\n      <td>0.179037</td>\n      <td>...</td>\n      <td>0.180992</td>\n      <td>0.288332</td>\n      <td>0.0</td>\n      <td>0.337776</td>\n      <td>0.388765</td>\n      <td>0.331424</td>\n      <td>0.662383</td>\n      <td>0.472222</td>\n      <td>5.0</td>\n      <td>1.0</td>\n    </tr>\n    <tr>\n      <th>8</th>\n      <td>100</td>\n      <td>Latin America/Caribbean</td>\n      <td>Authoritarian Regime</td>\n      <td>Authoritarian Regime</td>\n      <td>0.0</td>\n      <td>-0.063839</td>\n      <td>0.0</td>\n      <td>0.330715</td>\n      <td>0.330127</td>\n      <td>0.179037</td>\n      <td>...</td>\n      <td>0.180992</td>\n      <td>0.288332</td>\n      <td>0.0</td>\n      <td>0.337776</td>\n      <td>0.388765</td>\n      <td>0.331424</td>\n      <td>0.662383</td>\n      <td>0.472222</td>\n      <td>5.0</td>\n      <td>1.0</td>\n    </tr>\n    <tr>\n      <th>9</th>\n      <td>101</td>\n      <td>Latin America/Caribbean</td>\n      <td>Authoritarian Regime</td>\n      <td>Authoritarian Regime</td>\n      <td>0.0</td>\n      <td>-0.064883</td>\n      <td>0.0</td>\n      <td>0.330715</td>\n      <td>0.330127</td>\n      <td>0.179037</td>\n      <td>...</td>\n      <td>0.180992</td>\n      <td>0.288332</td>\n      <td>0.0</td>\n      <td>0.337776</td>\n      <td>0.388765</td>\n      <td>0.331424</td>\n      <td>0.662383</td>\n      <td>0.472222</td>\n      <td>5.0</td>\n      <td>1.0</td>\n    </tr>\n  </tbody>\n</table>\n<p>10 rows × 53 columns</p>\n</div>"
     },
     "execution_count": 7,
     "metadata": {},
     "output_type": "execute_result"
    }
   ],
   "execution_count": 7
  },
  {
   "cell_type": "code",
   "execution_count": 5,
   "metadata": {
    "colab": {},
    "colab_type": "code",
    "id": "_OlOre26HTLb",
    "ExecuteTime": {
     "end_time": "2023-05-12T18:09:30.996503Z",
     "start_time": "2023-05-12T18:09:30.988731Z"
    }
   },
   "outputs": [],
   "source": [
    "from sklearn.cluster import KMeans"
   ]
  },
  {
   "cell_type": "code",
   "execution_count": 7,
   "metadata": {
    "colab": {
     "base_uri": "https://localhost:8080/",
     "height": 282
    },
    "colab_type": "code",
    "id": "ykSChVc_G5_k",
    "outputId": "84bb8979-0662-45f3-d51d-03f36940b1dc",
    "ExecuteTime": {
     "end_time": "2023-05-12T18:17:05.620877Z",
     "start_time": "2023-05-12T18:17:05.528808Z"
    }
   },
   "outputs": [
    {
     "data": {
      "text/plain": "<matplotlib.collections.PathCollection at 0x13fc13490>"
     },
     "execution_count": 7,
     "metadata": {},
     "output_type": "execute_result"
    },
    {
     "data": {
      "text/plain": "<Figure size 640x480 with 1 Axes>",
      "image/png": "[encoded data removed]"
     },
     "metadata": {},
     "output_type": "display_data"
    }
   ],
   "source": [
    "# Génération de données\n",
    "X, y = make_blobs(n_samples=100, centers=3, cluster_std=0.4, random_state=0)\n",
    "plt.scatter(X[:,0], X[:,1])"
   ]
  },
  {
   "cell_type": "markdown",
   "metadata": {
    "ExecuteTime": {
     "end_time": "2023-05-12T10:16:48.116775Z",
     "start_time": "2023-05-12T10:16:48.034559Z"
    }
   },
   "source": [
    "# Modélisation"
   ],
   "outputs": [
    {
     "data": {
      "text/plain": "<matplotlib.collections.PathCollection at 0x29ab897d0>"
     },
     "execution_count": 12,
     "metadata": {},
     "output_type": "execute_result"
    },
    {
     "data": {
      "text/plain": "<Figure size 640x480 with 1 Axes>",
      "image/png": "[encoded data removed]"
     },
     "metadata": {},
     "output_type": "display_data"
    }
   ],
   "execution_count": 12
  },
  {
   "cell_type": "markdown",
   "metadata": {},
   "source": [
    "## Kmeans"
   ]
  },
  {
   "cell_type": "code",
   "execution_count": 16,
   "metadata": {
    "ExecuteTime": {
     "end_time": "2023-05-12T18:05:25.709163Z",
     "start_time": "2023-05-12T18:05:25.677456Z"
    }
   },
   "outputs": [
    {
     "name": "stderr",
     "output_type": "stream",
     "text": [
      "/opt/homebrew/lib/python3.11/site-packages/sklearn/cluster/_kmeans.py:870: FutureWarning: The default value of `n_init` will change from 10 to 'auto' in 1.4. Set the value of `n_init` explicitly to suppress the warning\n",
      "  warnings.warn(\n"
     ]
    },
    {
     "data": {
      "text/plain": "KMeans(n_clusters=3)",
      "text/html": "<style>#sk-container-id-3 {color: black;background-color: white;}#sk-container-id-3 pre{padding: 0;}#sk-container-id-3 div.sk-toggleable {background-color: white;}#sk-container-id-3 label.sk-toggleable__label {cursor: pointer;display: block;width: 100%;margin-bottom: 0;padding: 0.3em;box-sizing: border-box;text-align: center;}#sk-container-id-3 label.sk-toggleable__label-arrow:before {content: \"▸\";float: left;margin-right: 0.25em;color: #696969;}#sk-container-id-3 label.sk-toggleable__label-arrow:hover:before {color: black;}#sk-container-id-3 div.sk-estimator:hover label.sk-toggleable__label-arrow:before {color: black;}#sk-container-id-3 div.sk-toggleable__content {max-height: 0;max-width: 0;overflow: hidden;text-align: left;background-color: #f0f8ff;}#sk-container-id-3 div.sk-toggleable__content pre {margin: 0.2em;color: black;border-radius: 0.25em;background-color: #f0f8ff;}#sk-container-id-3 input.sk-toggleable__control:checked~div.sk-toggleable__content {max-height: 200px;max-width: 100%;overflow: auto;}#sk-container-id-3 input.sk-toggleable__control:checked~label.sk-toggleable__label-arrow:before {content: \"▾\";}#sk-container-id-3 div.sk-estimator input.sk-toggleable__control:checked~label.sk-toggleable__label {background-color: #d4ebff;}#sk-container-id-3 div.sk-label input.sk-toggleable__control:checked~label.sk-toggleable__label {background-color: #d4ebff;}#sk-container-id-3 input.sk-hidden--visually {border: 0;clip: rect(1px 1px 1px 1px);clip: rect(1px, 1px, 1px, 1px);height: 1px;margin: -1px;overflow: hidden;padding: 0;position: absolute;width: 1px;}#sk-container-id-3 div.sk-estimator {font-family: monospace;background-color: #f0f8ff;border: 1px dotted black;border-radius: 0.25em;box-sizing: border-box;margin-bottom: 0.5em;}#sk-container-id-3 div.sk-estimator:hover {background-color: #d4ebff;}#sk-container-id-3 div.sk-parallel-item::after {content: \"\";width: 100%;border-bottom: 1px solid gray;flex-grow: 1;}#sk-container-id-3 div.sk-label:hover label.sk-toggleable__label {background-color: #d4ebff;}#sk-container-id-3 div.sk-serial::before {content: \"\";position: absolute;border-left: 1px solid gray;box-sizing: border-box;top: 0;bottom: 0;left: 50%;z-index: 0;}#sk-container-id-3 div.sk-serial {display: flex;flex-direction: column;align-items: center;background-color: white;padding-right: 0.2em;padding-left: 0.2em;position: relative;}#sk-container-id-3 div.sk-item {position: relative;z-index: 1;}#sk-container-id-3 div.sk-parallel {display: flex;align-items: stretch;justify-content: center;background-color: white;position: relative;}#sk-container-id-3 div.sk-item::before, #sk-container-id-3 div.sk-parallel-item::before {content: \"\";position: absolute;border-left: 1px solid gray;box-sizing: border-box;top: 0;bottom: 0;left: 50%;z-index: -1;}#sk-container-id-3 div.sk-parallel-item {display: flex;flex-direction: column;z-index: 1;position: relative;background-color: white;}#sk-container-id-3 div.sk-parallel-item:first-child::after {align-self: flex-end;width: 50%;}#sk-container-id-3 div.sk-parallel-item:last-child::after {align-self: flex-start;width: 50%;}#sk-container-id-3 div.sk-parallel-item:only-child::after {width: 0;}#sk-container-id-3 div.sk-dashed-wrapped {border: 1px dashed gray;margin: 0 0.4em 0.5em 0.4em;box-sizing: border-box;padding-bottom: 0.4em;background-color: white;}#sk-container-id-3 div.sk-label label {font-family: monospace;font-weight: bold;display: inline-block;line-height: 1.2em;}#sk-container-id-3 div.sk-label-container {text-align: center;}#sk-container-id-3 div.sk-container {/* jupyter's `normalize.less` sets `[hidden] { display: none; }` but bootstrap.min.css set `[hidden] { display: none !important; }` so we also need the `!important` here to be able to override the default hidden behavior on the sphinx rendered scikit-learn.org. See: https://github.com/scikit-learn/scikit-learn/issues/21755 */display: inline-block !important;position: relative;}#sk-container-id-3 div.sk-text-repr-fallback {display: none;}</style><div id=\"sk-container-id-3\" class=\"sk-top-container\"><div class=\"sk-text-repr-fallback\"><pre>KMeans(n_clusters=3)</pre><b>In a Jupyter environment, please rerun this cell to show the HTML representation or trust the notebook. <br />On GitHub, the HTML representation is unable to render, please try loading this page with nbviewer.org.</b></div><div class=\"sk-container\" hidden><div class=\"sk-item\"><div class=\"sk-estimator sk-toggleable\"><input class=\"sk-toggleable__control sk-hidden--visually\" id=\"sk-estimator-id-3\" type=\"checkbox\" checked><label for=\"sk-estimator-id-3\" class=\"sk-toggleable__label sk-toggleable__label-arrow\">KMeans</label><div class=\"sk-toggleable__content\"><pre>KMeans(n_clusters=3)</pre></div></div></div></div></div>"
     },
     "execution_count": 16,
     "metadata": {},
     "output_type": "execute_result"
    }
   ],
   "source": [
    "# création du modèle\n",
    "model_kmeans = KMeans(n_clusters=3)\n",
    "model_kmeans.fit(X)"
   ]
  },
  {
   "cell_type": "code",
   "execution_count": 17,
   "metadata": {
    "colab": {
     "base_uri": "https://localhost:8080/",
     "height": 282
    },
    "colab_type": "code",
    "id": "zTbmYAXHHVXa",
    "outputId": "bee1ea78-a4fe-47cf-e9d8-3bc357f56722",
    "ExecuteTime": {
     "end_time": "2023-05-12T18:05:26.443833Z",
     "start_time": "2023-05-12T18:05:26.423164Z"
    }
   },
   "outputs": [
    {
     "name": "stdout",
     "output_type": "stream",
     "text": [
      "-30.870531280140675\n"
     ]
    },
    {
     "data": {
      "text/plain": "30.870531280140675"
     },
     "execution_count": 17,
     "metadata": {},
     "output_type": "execute_result"
    }
   ],
   "source": [
    "# Evaluation\n",
    "print(model_kmeans.score(X))\n",
    "model_kmeans.inertia_"
   ]
  },
  {
   "cell_type": "code",
   "execution_count": 18,
   "metadata": {
    "ExecuteTime": {
     "end_time": "2023-05-12T18:05:27.412564Z",
     "start_time": "2023-05-12T18:05:27.364698Z"
    }
   },
   "outputs": [
    {
     "name": "stderr",
     "output_type": "stream",
     "text": [
      "/opt/homebrew/lib/python3.11/site-packages/sklearn/cluster/_kmeans.py:870: FutureWarning: The default value of `n_init` will change from 10 to 'auto' in 1.4. Set the value of `n_init` explicitly to suppress the warning\n",
      "  warnings.warn(\n"
     ]
    }
   ],
   "source": [
    "clustering_labels_km = model_kmeans.fit_predict(X)"
   ]
  },
  {
   "cell_type": "code",
   "execution_count": 14,
   "metadata": {
    "ExecuteTime": {
     "end_time": "2023-05-12T18:03:18.231278Z",
     "start_time": "2023-05-12T18:03:18.228326Z"
    }
   },
   "outputs": [
    {
     "data": {
      "text/plain": "array([1, 2, 1, 2, 2, 2, 0, 0, 1, 2, 2, 2, 1, 2, 0, 1, 0, 2, 0, 0, 0, 0,\n       0, 2, 1, 1, 1, 1, 0, 0, 2, 1, 1, 2, 0, 0, 2, 1, 1, 0, 0, 1, 1, 2,\n       2, 2, 1, 1, 0, 0, 0, 1, 2, 1, 0, 0, 1, 1, 2, 1, 1, 0, 0, 0, 0, 1,\n       2, 0, 1, 2, 0, 2, 2, 1, 1, 2, 2, 2, 0, 1, 2, 2, 1, 2, 1, 2, 2, 2,\n       1, 2, 1, 1, 0, 0, 0, 0, 2, 2, 0, 0], dtype=int32)"
     },
     "execution_count": 14,
     "metadata": {},
     "output_type": "execute_result"
    }
   ],
   "source": [
    "clustering_labels_km"
   ]
  },
  {
   "cell_type": "code",
   "execution_count": 45,
   "metadata": {
    "ExecuteTime": {
     "end_time": "2023-05-12T10:36:11.775388Z",
     "start_time": "2023-05-12T10:36:11.769524Z"
    }
   },
   "outputs": [
    {
     "data": {
      "text/plain": "array([1, 1, 1, ..., 0, 0, 0], dtype=int32)"
     },
     "execution_count": 45,
     "metadata": {},
     "output_type": "execute_result"
    }
   ],
   "source": [
    "X1 = X.copy()\n",
    "X1 = pd.DataFrame(X1)\n",
    "\n",
    "\n",
    "clustering_labels_km\n",
    "\n",
    "X1['labels'] = clustering_labels_km"
   ]
  },
  {
   "cell_type": "code",
   "execution_count": 46,
   "metadata": {
    "ExecuteTime": {
     "end_time": "2023-05-12T10:36:20.411988Z",
     "start_time": "2023-05-12T10:36:20.406638Z"
    }
   },
   "outputs": [],
   "source": [
    "metrics.silhouette_score(X1, X1['labels'])"
   ]
  },
  {
   "cell_type": "code",
   "execution_count": 47,
   "metadata": {
    "ExecuteTime": {
     "end_time": "2023-05-12T10:36:21.484264Z",
     "start_time": "2023-05-12T10:36:21.114750Z"
    }
   },
   "outputs": [
    {
     "data": {
      "text/plain": "0.6512490774053474"
     },
     "execution_count": 47,
     "metadata": {},
     "output_type": "execute_result"
    }
   ],
   "source": [
    "#Création des clusters/classes sur la base train\n",
    "clusters_kmeans = model_kmeans.predict(X)\n",
    "\n",
    "clusters_kmeans\n"
   ]
  },
  {
   "cell_type": "code",
   "execution_count": 48,
   "metadata": {
    "ExecuteTime": {
     "end_time": "2023-05-12T10:36:25.547584Z",
     "start_time": "2023-05-12T10:36:25.521628Z"
    }
   },
   "outputs": [
    {
     "data": {
      "text/plain": "array([1, 1, 1, ..., 0, 0, 0], dtype=int32)"
     },
     "execution_count": 48,
     "metadata": {},
     "output_type": "execute_result"
    }
   ],
   "source": [
    "import pandas as pd\n",
    "\n",
    "clusters_kmeans1 = pd.DataFrame({'clusters':clusters_kmeans})\n",
    "clusters_kmeans1['clusters'].value_counts()\n",
    "\n"
   ]
  },
  {
   "cell_type": "code",
   "execution_count": 49,
   "metadata": {
    "ExecuteTime": {
     "end_time": "2023-05-12T10:36:29.214347Z",
     "start_time": "2023-05-12T10:36:29.199581Z"
    }
   },
   "outputs": [
    {
     "data": {
      "text/plain": "2    2576\n0    2460\n1    1058\nName: clusters, dtype: int64"
     },
     "execution_count": 49,
     "metadata": {},
     "output_type": "execute_result"
    }
   ],
   "source": [
    "clusters_kmeans1"
   ]
  },
  {
   "cell_type": "code",
   "execution_count": 50,
   "metadata": {
    "ExecuteTime": {
     "end_time": "2023-05-12T10:36:30.912643Z",
     "start_time": "2023-05-12T10:36:30.893002Z"
    }
   },
   "outputs": [
    {
     "data": {
      "text/plain": "      clusters\n0            1\n1            1\n2            1\n3            1\n4            1\n...        ...\n6089         0\n6090         0\n6091         0\n6092         0\n6093         0\n\n[6094 rows x 1 columns]",
      "text/html": "<div>\n<style scoped>\n    .dataframe tbody tr th:only-of-type {\n        vertical-align: middle;\n    }\n\n    .dataframe tbody tr th {\n        vertical-align: top;\n    }\n\n    .dataframe thead th {\n        text-align: right;\n    }\n</style>\n<table border=\"1\" class=\"dataframe\">\n  <thead>\n    <tr style=\"text-align: right;\">\n      <th></th>\n      <th>clusters</th>\n    </tr>\n  </thead>\n  <tbody>\n    <tr>\n      <th>0</th>\n      <td>1</td>\n    </tr>\n    <tr>\n      <th>1</th>\n      <td>1</td>\n    </tr>\n    <tr>\n      <th>2</th>\n      <td>1</td>\n    </tr>\n    <tr>\n      <th>3</th>\n      <td>1</td>\n    </tr>\n    <tr>\n      <th>4</th>\n      <td>1</td>\n    </tr>\n    <tr>\n      <th>...</th>\n      <td>...</td>\n    </tr>\n    <tr>\n      <th>6089</th>\n      <td>0</td>\n    </tr>\n    <tr>\n      <th>6090</th>\n      <td>0</td>\n    </tr>\n    <tr>\n      <th>6091</th>\n      <td>0</td>\n    </tr>\n    <tr>\n      <th>6092</th>\n      <td>0</td>\n    </tr>\n    <tr>\n      <th>6093</th>\n      <td>0</td>\n    </tr>\n  </tbody>\n</table>\n<p>6094 rows × 1 columns</p>\n</div>"
     },
     "execution_count": 50,
     "metadata": {},
     "output_type": "execute_result"
    }
   ],
   "source": [
    "# Visualisation des clusters\n",
    "plt.scatter(X[:,0], X[:,1], c = clusters_kmeans)\n",
    "plt.scatter(model_kmeans.cluster_centers_[:,0], model_kmeans.cluster_centers_[:,1], c='r')"
   ]
  },
  {
   "cell_type": "code",
   "execution_count": 51,
   "metadata": {
    "ExecuteTime": {
     "end_time": "2023-05-12T10:36:32.584086Z",
     "start_time": "2023-05-12T10:36:32.413820Z"
    }
   },
   "outputs": [
    {
     "data": {
      "text/plain": "<matplotlib.collections.PathCollection at 0x2bca1c310>"
     },
     "execution_count": 51,
     "metadata": {},
     "output_type": "execute_result"
    },
    {
     "data": {
      "text/plain": "<Figure size 640x480 with 1 Axes>",
      "image/png": "[encoded data removed]"
     },
     "metadata": {},
     "output_type": "display_data"
    }
   ],
   "source": [
    "# connaitre le nombre de variables explicatives\n",
    "model_kmeans.n_features_in_"
   ]
  },
  {
   "cell_type": "code",
   "execution_count": 52,
   "metadata": {
    "ExecuteTime": {
     "end_time": "2023-05-12T10:38:56.279302Z",
     "start_time": "2023-05-12T10:38:56.274587Z"
    }
   },
   "outputs": [
    {
     "data": {
      "text/plain": "50"
     },
     "execution_count": 52,
     "metadata": {},
     "output_type": "execute_result"
    }
   ],
   "source": [
    "# connaitre le nombre de cluster\n",
    "model_kmeans.n_clusters"
   ]
  },
  {
   "cell_type": "code",
   "execution_count": 53,
   "metadata": {
    "ExecuteTime": {
     "end_time": "2023-05-12T10:38:57.210414Z",
     "start_time": "2023-05-12T10:38:57.206086Z"
    }
   },
   "outputs": [
    {
     "data": {
      "text/plain": "3"
     },
     "execution_count": 53,
     "metadata": {},
     "output_type": "execute_result"
    }
   ],
   "source": [
    "# connaitre les centres\n",
    "model_kmeans.cluster_centers_"
   ]
  },
  {
   "cell_type": "markdown",
   "metadata": {
    "colab_type": "text",
    "id": "cALI-5h2Hc7v",
    "ExecuteTime": {
     "end_time": "2023-05-12T10:39:01.485762Z",
     "start_time": "2023-05-12T10:39:01.474662Z"
    }
   },
   "source": [
    "### Elbow Method"
   ],
   "outputs": [
    {
     "data": {
      "text/plain": "array([[6.80366355e+03, 3.91745770e-01, 3.27932462e-01, 6.25897332e-01,\n        5.58993229e-01, 5.49364129e-01, 5.23311593e-01, 3.72477313e-01,\n        4.12433970e-01, 4.85710416e-01, 4.36204795e-01, 4.21170256e-01,\n        6.33447277e-01, 6.56479346e-01, 6.13436273e-01, 4.61804145e-01,\n        6.74572597e-01, 6.91971890e-01, 7.45018841e-01, 6.17499661e-01,\n        7.52133279e-01, 7.77326290e-01, 6.45440158e-01, 6.51158066e-01,\n        7.49943238e-01, 5.74106054e-01, 5.63003354e-01, 6.33905594e-01,\n        8.05142096e-01, 7.50586679e-01, 4.80941071e-01, 8.06665748e-01,\n        5.95557362e-01, 3.58797237e-01, 4.73523609e-01, 5.40456991e-01,\n        6.41342644e-01, 4.57537586e-01, 5.17029213e-01, 5.56088489e-01,\n        5.42911565e-01, 4.78803652e-01, 3.26493295e-01, 3.93189765e-01,\n        4.74609540e-01, 4.54454244e-01, 4.15817467e-01, 4.73195742e-01,\n        3.56440471e+00, 1.06257619e+00],\n       [6.20500000e+02, 5.99154796e-01, 5.35392054e-01, 8.50031506e-01,\n        5.31652138e-01, 5.16645198e-01, 6.38324622e-01, 6.10586011e-01,\n        6.20510397e-01, 7.15185885e-01, 7.21172023e-01, 4.88185255e-01,\n        7.59916862e-01, 7.65531175e-01, 8.74921235e-01, 7.48109641e-01,\n        7.70371555e-01, 7.99188936e-01, 7.93405216e-01, 7.93005671e-01,\n        9.04064272e-01, 9.31474480e-01, 7.21314641e-01, 5.94281664e-01,\n        7.14838007e-01, 5.76086957e-01, 5.60337259e-01, 7.08759977e-01,\n        8.24651061e-01, 7.82739466e-01, 4.77944795e-01, 8.70877391e-01,\n        6.70447385e-01, 4.42344045e-01, 5.29907516e-01, 5.49316030e-01,\n        4.95333176e-01, 5.09924386e-01, 6.42640604e-01, 6.60522283e-01,\n        6.38015874e-01, 5.60757061e-01, 4.89130435e-01, 3.86499718e-01,\n        4.71989931e-01, 4.83849643e-01, 4.05635864e-01, 4.34040905e-01,\n        2.95274102e+00, 1.87901701e+00],\n       [4.14614524e+03, 3.32861050e-01, 2.69034794e-01, 5.40711974e-01,\n        5.33112996e-01, 5.14067173e-01, 5.16637586e-01, 3.46537217e-01,\n        3.61747573e-01, 3.93786408e-01, 3.82135922e-01, 3.80776699e-01,\n        6.45123909e-01, 6.19456365e-01, 7.19741100e-01, 5.76504854e-01,\n        6.29713457e-01, 6.87431742e-01, 7.45212174e-01, 6.08932039e-01,\n        6.40388350e-01, 6.64854369e-01, 6.63936826e-01, 5.30970874e-01,\n        6.79568452e-01, 5.23106796e-01, 4.18332859e-01, 5.49973031e-01,\n        6.15158367e-01, 5.87373015e-01, 4.26136157e-01, 6.54671076e-01,\n        6.06084142e-01, 3.10550162e-01, 3.99119116e-01, 4.82372300e-01,\n        5.51801510e-01, 4.12427184e-01, 4.90184654e-01, 5.48579044e-01,\n        5.02610771e-01, 4.39889486e-01, 1.96893204e-01, 3.16929974e-01,\n        3.92254771e-01, 3.82247865e-01, 3.54127314e-01, 4.19625135e-01,\n        4.24582524e+00, 1.48932039e+00]])"
     },
     "execution_count": 54,
     "metadata": {},
     "output_type": "execute_result"
    }
   ],
   "execution_count": 54
  },
  {
   "cell_type": "code",
   "execution_count": 12,
   "metadata": {},
   "outputs": [
    {
     "name": "stderr",
     "output_type": "stream",
     "text": [
      "C:\\Users\\Lewis\\anaconda3\\lib\\site-packages\\sklearn\\cluster\\_kmeans.py:1036: UserWarning: KMeans is known to have a memory leak on Windows with MKL, when there are less chunks than available threads. You can avoid it by setting the environment variable OMP_NUM_THREADS=1.\n",
      "  warnings.warn(\n"
     ]
    }
   ],
   "source": [
    "# Recherche du k optimal par la méthode du coude\n",
    "inertia = []\n",
    "K_range = range(1, 20)\n",
    "for k in K_range:\n",
    "    model = KMeans(n_clusters=k).fit(X)\n",
    "    inertia.append(model.inertia_)"
   ]
  },
  {
   "cell_type": "code",
   "execution_count": 55,
   "metadata": {
    "colab": {
     "base_uri": "https://localhost:8080/",
     "height": 296
    },
    "colab_type": "code",
    "id": "MIBd3MvvHNFi",
    "outputId": "71be8a80-8ad0-4922-eab0-207a08699fa2",
    "ExecuteTime": {
     "end_time": "2023-05-12T10:39:40.657816Z",
     "start_time": "2023-05-12T10:39:15.667353Z"
    }
   },
   "outputs": [
    {
     "name": "stderr",
     "output_type": "stream",
     "text": [
      "/opt/homebrew/lib/python3.11/site-packages/sklearn/cluster/_kmeans.py:870: FutureWarning: The default value of `n_init` will change from 10 to 'auto' in 1.4. Set the value of `n_init` explicitly to suppress the warning\n",
      "  warnings.warn(\n",
      "/opt/homebrew/lib/python3.11/site-packages/sklearn/cluster/_kmeans.py:870: FutureWarning: The default value of `n_init` will change from 10 to 'auto' in 1.4. Set the value of `n_init` explicitly to suppress the warning\n",
      "  warnings.warn(\n",
      "/opt/homebrew/lib/python3.11/site-packages/sklearn/cluster/_kmeans.py:870: FutureWarning: The default value of `n_init` will change from 10 to 'auto' in 1.4. Set the value of `n_init` explicitly to suppress the warning\n",
      "  warnings.warn(\n",
      "/opt/homebrew/lib/python3.11/site-packages/sklearn/cluster/_kmeans.py:870: FutureWarning: The default value of `n_init` will change from 10 to 'auto' in 1.4. Set the value of `n_init` explicitly to suppress the warning\n",
      "  warnings.warn(\n",
      "/opt/homebrew/lib/python3.11/site-packages/sklearn/cluster/_kmeans.py:870: FutureWarning: The default value of `n_init` will change from 10 to 'auto' in 1.4. Set the value of `n_init` explicitly to suppress the warning\n",
      "  warnings.warn(\n",
      "/opt/homebrew/lib/python3.11/site-packages/sklearn/cluster/_kmeans.py:870: FutureWarning: The default value of `n_init` will change from 10 to 'auto' in 1.4. Set the value of `n_init` explicitly to suppress the warning\n",
      "  warnings.warn(\n",
      "/opt/homebrew/lib/python3.11/site-packages/sklearn/cluster/_kmeans.py:870: FutureWarning: The default value of `n_init` will change from 10 to 'auto' in 1.4. Set the value of `n_init` explicitly to suppress the warning\n",
      "  warnings.warn(\n",
      "/opt/homebrew/lib/python3.11/site-packages/sklearn/cluster/_kmeans.py:870: FutureWarning: The default value of `n_init` will change from 10 to 'auto' in 1.4. Set the value of `n_init` explicitly to suppress the warning\n",
      "  warnings.warn(\n",
      "/opt/homebrew/lib/python3.11/site-packages/sklearn/cluster/_kmeans.py:870: FutureWarning: The default value of `n_init` will change from 10 to 'auto' in 1.4. Set the value of `n_init` explicitly to suppress the warning\n",
      "  warnings.warn(\n",
      "/opt/homebrew/lib/python3.11/site-packages/sklearn/cluster/_kmeans.py:870: FutureWarning: The default value of `n_init` will change from 10 to 'auto' in 1.4. Set the value of `n_init` explicitly to suppress the warning\n",
      "  warnings.warn(\n",
      "/opt/homebrew/lib/python3.11/site-packages/sklearn/cluster/_kmeans.py:870: FutureWarning: The default value of `n_init` will change from 10 to 'auto' in 1.4. Set the value of `n_init` explicitly to suppress the warning\n",
      "  warnings.warn(\n",
      "/opt/homebrew/lib/python3.11/site-packages/sklearn/cluster/_kmeans.py:870: FutureWarning: The default value of `n_init` will change from 10 to 'auto' in 1.4. Set the value of `n_init` explicitly to suppress the warning\n",
      "  warnings.warn(\n",
      "/opt/homebrew/lib/python3.11/site-packages/sklearn/cluster/_kmeans.py:870: FutureWarning: The default value of `n_init` will change from 10 to 'auto' in 1.4. Set the value of `n_init` explicitly to suppress the warning\n",
      "  warnings.warn(\n",
      "/opt/homebrew/lib/python3.11/site-packages/sklearn/cluster/_kmeans.py:870: FutureWarning: The default value of `n_init` will change from 10 to 'auto' in 1.4. Set the value of `n_init` explicitly to suppress the warning\n",
      "  warnings.warn(\n",
      "/opt/homebrew/lib/python3.11/site-packages/sklearn/cluster/_kmeans.py:870: FutureWarning: The default value of `n_init` will change from 10 to 'auto' in 1.4. Set the value of `n_init` explicitly to suppress the warning\n",
      "  warnings.warn(\n",
      "/opt/homebrew/lib/python3.11/site-packages/sklearn/cluster/_kmeans.py:870: FutureWarning: The default value of `n_init` will change from 10 to 'auto' in 1.4. Set the value of `n_init` explicitly to suppress the warning\n",
      "  warnings.warn(\n",
      "/opt/homebrew/lib/python3.11/site-packages/sklearn/cluster/_kmeans.py:870: FutureWarning: The default value of `n_init` will change from 10 to 'auto' in 1.4. Set the value of `n_init` explicitly to suppress the warning\n",
      "  warnings.warn(\n",
      "/opt/homebrew/lib/python3.11/site-packages/sklearn/cluster/_kmeans.py:870: FutureWarning: The default value of `n_init` will change from 10 to 'auto' in 1.4. Set the value of `n_init` explicitly to suppress the warning\n",
      "  warnings.warn(\n",
      "/opt/homebrew/lib/python3.11/site-packages/sklearn/cluster/_kmeans.py:870: FutureWarning: The default value of `n_init` will change from 10 to 'auto' in 1.4. Set the value of `n_init` explicitly to suppress the warning\n",
      "  warnings.warn(\n"
     ]
    }
   ],
   "source": [
    "# Visualisation du coude\n",
    "plt.plot(K_range, inertia)\n",
    "plt.xlabel('nombre de clusters')\n",
    "plt.ylabel('Inertia')"
   ]
  },
  {
   "cell_type": "markdown",
   "metadata": {
    "colab_type": "text",
    "id": "T-yhxJraHiLU",
    "ExecuteTime": {
     "end_time": "2023-05-12T10:39:40.827091Z",
     "start_time": "2023-05-12T10:39:40.699337Z"
    }
   },
   "source": [
    "## 2. Detection d'anomalies avec Isolation Forest"
   ],
   "outputs": [
    {
     "data": {
      "text/plain": "Text(0, 0.5, 'Inertia')"
     },
     "execution_count": 56,
     "metadata": {},
     "output_type": "execute_result"
    },
    {
     "data": {
      "text/plain": "<Figure size 640x480 with 1 Axes>",
      "image/png": "[encoded data removed]"
     },
     "metadata": {},
     "output_type": "display_data"
    }
   ],
   "execution_count": 56
  },
  {
   "cell_type": "code",
   "execution_count": 14,
   "metadata": {
    "colab": {},
    "colab_type": "code",
    "id": "Ydb36Yv3Hocs"
   },
   "outputs": [],
   "source": [
    "from sklearn.ensemble import IsolationForest"
   ]
  },
  {
   "cell_type": "code",
   "execution_count": 15,
   "metadata": {
    "colab": {
     "base_uri": "https://localhost:8080/",
     "height": 282
    },
    "colab_type": "code",
    "id": "irVqoD85HX-e",
    "outputId": "c83165e1-742b-4f00-b6b5-17a202a786d9"
   },
   "outputs": [
    {
     "data": {
      "text/plain": [
       "<matplotlib.collections.PathCollection at 0x23102851490>"
      ]
     },
     "execution_count": 15,
     "metadata": {},
     "output_type": "execute_result"
    },
    {
     "data": {
      "image/png": "[encoded data removed]",
      "text/plain": [
       "<Figure size 432x288 with 1 Axes>"
      ]
     },
     "metadata": {
      "needs_background": "light"
     },
     "output_type": "display_data"
    }
   ],
   "source": [
    "# Générer les données\n",
    "X, y = make_blobs(n_samples=50, centers=1, cluster_std=0.1, random_state=0)\n",
    "X[-1,:] = np.array([2.25, 5])\n",
    "\n",
    "plt.scatter(X[:,0], X[:, 1])"
   ]
  },
  {
   "cell_type": "code",
   "execution_count": 16,
   "metadata": {
    "colab": {
     "base_uri": "https://localhost:8080/",
     "height": 282
    },
    "colab_type": "code",
    "id": "_lXr47YMHpjE",
    "outputId": "2b49bd16-6e94-4cd4-934d-847e03d04da4"
   },
   "outputs": [],
   "source": [
    "# Création du modèle d'isolation Forest\n",
    "\n",
    "model_isofo = IsolationForest(contamination=0.01)\n",
    "\n",
    "anomalies = model_isofo.fit(X)"
   ]
  },
  {
   "cell_type": "code",
   "execution_count": 17,
   "metadata": {},
   "outputs": [],
   "source": [
    "# Clusters des anomalies\n",
    "clusters_ano = anomalies.predict(X)"
   ]
  },
  {
   "cell_type": "code",
   "execution_count": 18,
   "metadata": {},
   "outputs": [
    {
     "data": {
      "text/plain": [
       "<matplotlib.collections.PathCollection at 0x231028c1e50>"
      ]
     },
     "execution_count": 18,
     "metadata": {},
     "output_type": "execute_result"
    },
    {
     "data": {
      "image/png": "[encoded data removed]",
      "text/plain": [
       "<Figure size 432x288 with 1 Axes>"
      ]
     },
     "metadata": {
      "needs_background": "light"
     },
     "output_type": "display_data"
    }
   ],
   "source": [
    "# Visualisation des clusters des anomalies\n",
    "plt.scatter(X[:,0], X[:, 1], c=clusters_ano)"
   ]
  },
  {
   "cell_type": "markdown",
   "metadata": {
    "colab": {},
    "colab_type": "code",
    "id": "jCvustw9NsNT"
   },
   "source": [
    "## 3. DBSCAN"
   ]
  },
  {
   "cell_type": "code",
   "execution_count": 19,
   "metadata": {},
   "outputs": [],
   "source": [
    "from sklearn.cluster import DBSCAN"
   ]
  },
  {
   "cell_type": "code",
   "execution_count": 20,
   "metadata": {},
   "outputs": [],
   "source": [
    "db_model = DBSCAN(eps=0.5, min_samples=4)\n",
    "\n",
    "\n",
    "# modelisation\n",
    "\n",
    "clustering = db_model.fit(X)\n",
    "\n",
    "clustering_labels = db_model.fit_predict(X)"
   ]
  },
  {
   "cell_type": "code",
   "execution_count": 21,
   "metadata": {},
   "outputs": [],
   "source": [
    "X1 = X.copy()\n",
    "X1 = pd.DataFrame(X1)\n",
    "\n",
    "\n",
    "clustering_labels\n",
    "\n",
    "X1['labels'] = clustering_labels\n"
   ]
  },
  {
   "cell_type": "code",
   "execution_count": 22,
   "metadata": {},
   "outputs": [
    {
     "data": {
      "text/plain": [
       "0.8769059144774929"
      ]
     },
     "execution_count": 22,
     "metadata": {},
     "output_type": "execute_result"
    }
   ],
   "source": [
    "\n",
    "metrics.silhouette_score(X1, X1['labels'])"
   ]
  },
  {
   "cell_type": "code",
   "execution_count": 23,
   "metadata": {},
   "outputs": [
    {
     "data": {
      "text/plain": [
       "<matplotlib.collections.PathCollection at 0x23102d49cd0>"
      ]
     },
     "execution_count": 23,
     "metadata": {},
     "output_type": "execute_result"
    },
    {
     "data": {
      "image/png": "[encoded data removed]",
      "text/plain": [
       "<Figure size 432x288 with 1 Axes>"
      ]
     },
     "metadata": {
      "needs_background": "light"
     },
     "output_type": "display_data"
    }
   ],
   "source": [
    "plt.scatter(X[:,0], X[:, 1], c=clustering.labels_ )"
   ]
  },
  {
   "cell_type": "code",
   "execution_count": 24,
   "metadata": {},
   "outputs": [
    {
     "data": {
      "text/plain": [
       " 0    49\n",
       "-1     1\n",
       "Name: clusters, dtype: int64"
      ]
     },
     "execution_count": 24,
     "metadata": {},
     "output_type": "execute_result"
    }
   ],
   "source": [
    "# catégorisation\n",
    "clusters_db = pd.DataFrame({'clusters':clustering.labels_})\n",
    "clusters_db['clusters'].value_counts()"
   ]
  }
 ],
 "metadata": {
  "colab": {
   "authorship_tag": "ABX9TyMkFPGWyDnOkG15HtfAhlFS",
   "include_colab_link": true,
   "name": "Untitled7.ipynb",
   "provenance": []
  },
  "kernelspec": {
   "display_name": "Python 3",
   "language": "python",
   "name": "python3"
  },
  "language_info": {
   "codemirror_mode": {
    "name": "ipython",
    "version": 3
   },
   "file_extension": ".py",
   "mimetype": "text/x-python",
   "name": "python",
   "nbconvert_exporter": "python",
   "pygments_lexer": "ipython3",
   "version": "3.8.5"
  }
 },
 "nbformat": 4,
 "nbformat_minor": 1
}
