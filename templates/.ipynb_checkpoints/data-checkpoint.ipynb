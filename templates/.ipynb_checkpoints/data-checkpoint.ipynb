{
 "cells": [
  {
   "cell_type": "code",
   "execution_count": 1,
   "metadata": {
    "ExecuteTime": {
     "end_time": "2023-05-12T16:48:59.709074Z",
     "start_time": "2023-05-12T16:48:59.706935Z"
    },
    "collapsed": true
   },
   "outputs": [],
   "source": [
    "import numpy as np\n",
    "import matplotlib.pyplot as plt\n",
    "import seaborn as sns\n",
    "import pandas as pd"
   ]
  },
  {
   "cell_type": "code",
   "execution_count": 2,
   "metadata": {
    "ExecuteTime": {
     "end_time": "2023-05-12T16:48:59.711589Z",
     "start_time": "2023-05-12T16:48:59.709913Z"
    }
   },
   "outputs": [],
   "source": [
    "def get_raw_data(path, delimiter=\",\"):\n",
    "    # Importer les données\n",
    "    raw_data = pd.read_csv(path, delimiter)\n",
    "    # Regarder dans la base\n",
    "    raw_data.head()  # afficher les 5 premières lignes\n",
    "\n",
    "    # len(raw_data[\"X_COLUMN\"].unique())\n",
    "    print(raw_data.shape)\n",
    "    raw_data.info()\n",
    "    return raw_data\n"
   ]
  },
  {
   "cell_type": "code",
   "execution_count": null,
   "metadata": {},
   "outputs": [],
   "source": []
  }
 ],
 "metadata": {
  "kernelspec": {
   "display_name": "Python 3 (ipykernel)",
   "language": "python",
   "name": "python3"
  },
  "language_info": {
   "codemirror_mode": {
    "name": "ipython",
    "version": 3
   },
   "file_extension": ".py",
   "mimetype": "text/x-python",
   "name": "python",
   "nbconvert_exporter": "python",
   "pygments_lexer": "ipython3",
   "version": "3.11.3"
  }
 },
 "nbformat": 4,
 "nbformat_minor": 1
}
