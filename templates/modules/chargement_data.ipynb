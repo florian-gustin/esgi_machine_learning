{
 "cells": [
  {
   "cell_type": "code",
   "execution_count": 4,
   "metadata": {
    "collapsed": true,
    "ExecuteTime": {
     "end_time": "2023-05-12T17:18:34.329374Z",
     "start_time": "2023-05-12T17:18:34.328893Z"
    }
   },
   "outputs": [],
   "source": [
    "import pandas as pd"
   ]
  },
  {
   "cell_type": "code",
   "execution_count": 5,
   "metadata": {
    "ExecuteTime": {
     "end_time": "2023-05-12T17:18:34.798115Z",
     "start_time": "2023-05-12T17:18:34.794445Z"
    }
   },
   "outputs": [],
   "source": [
    "def get_raw_data(path, delimiter=\",\"):\n",
    "    # Importer les données\n",
    "    raw_data = pd.read_csv(path, delimiter)\n",
    "    # Regarder dans la base\n",
    "    raw_data.head()  # afficher les 5 premières lignes\n",
    "\n",
    "    # len(raw_data[\"X_COLUMN\"].unique())\n",
    "    print(raw_data.shape)\n",
    "    raw_data.info()\n",
    "    return raw_data\n"
   ]
  }
 ],
 "metadata": {
  "kernelspec": {
   "display_name": "Python 3 (ipykernel)",
   "language": "python",
   "name": "python3"
  },
  "language_info": {
   "codemirror_mode": {
    "name": "ipython",
    "version": 3
   },
   "file_extension": ".py",
   "mimetype": "text/x-python",
   "name": "python",
   "nbconvert_exporter": "python",
   "pygments_lexer": "ipython3",
   "version": "3.11.3"
  }
 },
 "nbformat": 4,
 "nbformat_minor": 1
}
