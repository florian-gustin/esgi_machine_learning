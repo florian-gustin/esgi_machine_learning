{
  "cells": [
    {
      "cell_type": "markdown",
      "metadata": {
        "id": "upLrGaQomNRM"
      },
      "source": [
        "# Contrôle Continu"
      ]
    },
    {
      "cell_type": "markdown",
      "metadata": {
        "id": "pk4OoqAgmNRN"
      },
      "source": [
        "### Nom et prénom de l'étudiant"
      ]
    },
    {
      "cell_type": "markdown",
      "metadata": {
        "id": "kpKybXiRmNRN"
      },
      "source": [
        "# Préparation des données"
      ]
    },
    {
      "cell_type": "code",
      "execution_count": null,
      "metadata": {
        "id": "RHiquXwMmNRN"
      },
      "outputs": [],
      "source": [
        "import numpy as np\n",
        "import matplotlib.pyplot as plt\n",
        "import seaborn as sns\n",
        "import pandas as pd\n",
        "#pd.set_option('max_columns', None)"
      ]
    },
    {
      "cell_type": "markdown",
      "metadata": {
        "id": "GGDX1CDjmNRO"
      },
      "source": [
        "## 1- Charger la donnée"
      ]
    },
    {
      "cell_type": "code",
      "execution_count": null,
      "metadata": {
        "id": "uIn63dzgmNRO"
      },
      "outputs": [],
      "source": [
        "raw_data = pd.read_csv(\"./diabetes.txt\", sep=\"\\t\")"
      ]
    },
    {
      "cell_type": "markdown",
      "metadata": {
        "id": "L1bK_pTCmNRO"
      },
      "source": [
        "## 2- Afficher les 10 premières lignes de la raw_data"
      ]
    },
    {
      "cell_type": "code",
      "execution_count": null,
      "metadata": {
        "colab": {
          "base_uri": "https://localhost:8080/",
          "height": 407
        },
        "id": "YQ5ymredmNRP",
        "outputId": "69eea529-5468-4394-a101-d50dc820efd5"
      },
      "outputs": [
        {
          "output_type": "execute_result",
          "data": {
            "text/plain": [
              "   Pregnancies  Glucose  BloodPressure  SkinThickness  Insulin   BMI  \\\n",
              "0          6.0      148            NaN             35      0.0  33.6   \n",
              "1          1.0       85            NaN             29      0.0  26.6   \n",
              "2          8.0      183            NaN              0      0.0  23.3   \n",
              "3          1.0       89            NaN             23     94.0  28.1   \n",
              "4          0.0      137            NaN             35    168.0  43.1   \n",
              "5          5.0      116            NaN              0      0.0  25.6   \n",
              "6          3.0       78            NaN             32     88.0  31.0   \n",
              "7         10.0      115            NaN              0      0.0  35.3   \n",
              "8          2.0      197            NaN             45    543.0  30.5   \n",
              "9          8.0      125            NaN              0      0.0   0.0   \n",
              "\n",
              "   DiabetesPedigreeFunction  Age  Outcome  \n",
              "0                     0.627   50        1  \n",
              "1                     0.351   31        0  \n",
              "2                     0.672   32        1  \n",
              "3                     0.167   21        0  \n",
              "4                     2.288   33        1  \n",
              "5                     0.201   30        0  \n",
              "6                     0.248   26        1  \n",
              "7                     0.134   29        0  \n",
              "8                     0.158   53        1  \n",
              "9                     0.232   54        1  "
            ],
            "text/html": [
              "\n",
              "  <div id=\"df-e3fbe53d-ded8-4c22-b62f-f5346290a635\">\n",
              "    <div class=\"colab-df-container\">\n",
              "      <div>\n",
              "<style scoped>\n",
              "    .dataframe tbody tr th:only-of-type {\n",
              "        vertical-align: middle;\n",
              "    }\n",
              "\n",
              "    .dataframe tbody tr th {\n",
              "        vertical-align: top;\n",
              "    }\n",
              "\n",
              "    .dataframe thead th {\n",
              "        text-align: right;\n",
              "    }\n",
              "</style>\n",
              "<table border=\"1\" class=\"dataframe\">\n",
              "  <thead>\n",
              "    <tr style=\"text-align: right;\">\n",
              "      <th></th>\n",
              "      <th>Pregnancies</th>\n",
              "      <th>Glucose</th>\n",
              "      <th>BloodPressure</th>\n",
              "      <th>SkinThickness</th>\n",
              "      <th>Insulin</th>\n",
              "      <th>BMI</th>\n",
              "      <th>DiabetesPedigreeFunction</th>\n",
              "      <th>Age</th>\n",
              "      <th>Outcome</th>\n",
              "    </tr>\n",
              "  </thead>\n",
              "  <tbody>\n",
              "    <tr>\n",
              "      <th>0</th>\n",
              "      <td>6.0</td>\n",
              "      <td>148</td>\n",
              "      <td>NaN</td>\n",
              "      <td>35</td>\n",
              "      <td>0.0</td>\n",
              "      <td>33.6</td>\n",
              "      <td>0.627</td>\n",
              "      <td>50</td>\n",
              "      <td>1</td>\n",
              "    </tr>\n",
              "    <tr>\n",
              "      <th>1</th>\n",
              "      <td>1.0</td>\n",
              "      <td>85</td>\n",
              "      <td>NaN</td>\n",
              "      <td>29</td>\n",
              "      <td>0.0</td>\n",
              "      <td>26.6</td>\n",
              "      <td>0.351</td>\n",
              "      <td>31</td>\n",
              "      <td>0</td>\n",
              "    </tr>\n",
              "    <tr>\n",
              "      <th>2</th>\n",
              "      <td>8.0</td>\n",
              "      <td>183</td>\n",
              "      <td>NaN</td>\n",
              "      <td>0</td>\n",
              "      <td>0.0</td>\n",
              "      <td>23.3</td>\n",
              "      <td>0.672</td>\n",
              "      <td>32</td>\n",
              "      <td>1</td>\n",
              "    </tr>\n",
              "    <tr>\n",
              "      <th>3</th>\n",
              "      <td>1.0</td>\n",
              "      <td>89</td>\n",
              "      <td>NaN</td>\n",
              "      <td>23</td>\n",
              "      <td>94.0</td>\n",
              "      <td>28.1</td>\n",
              "      <td>0.167</td>\n",
              "      <td>21</td>\n",
              "      <td>0</td>\n",
              "    </tr>\n",
              "    <tr>\n",
              "      <th>4</th>\n",
              "      <td>0.0</td>\n",
              "      <td>137</td>\n",
              "      <td>NaN</td>\n",
              "      <td>35</td>\n",
              "      <td>168.0</td>\n",
              "      <td>43.1</td>\n",
              "      <td>2.288</td>\n",
              "      <td>33</td>\n",
              "      <td>1</td>\n",
              "    </tr>\n",
              "    <tr>\n",
              "      <th>5</th>\n",
              "      <td>5.0</td>\n",
              "      <td>116</td>\n",
              "      <td>NaN</td>\n",
              "      <td>0</td>\n",
              "      <td>0.0</td>\n",
              "      <td>25.6</td>\n",
              "      <td>0.201</td>\n",
              "      <td>30</td>\n",
              "      <td>0</td>\n",
              "    </tr>\n",
              "    <tr>\n",
              "      <th>6</th>\n",
              "      <td>3.0</td>\n",
              "      <td>78</td>\n",
              "      <td>NaN</td>\n",
              "      <td>32</td>\n",
              "      <td>88.0</td>\n",
              "      <td>31.0</td>\n",
              "      <td>0.248</td>\n",
              "      <td>26</td>\n",
              "      <td>1</td>\n",
              "    </tr>\n",
              "    <tr>\n",
              "      <th>7</th>\n",
              "      <td>10.0</td>\n",
              "      <td>115</td>\n",
              "      <td>NaN</td>\n",
              "      <td>0</td>\n",
              "      <td>0.0</td>\n",
              "      <td>35.3</td>\n",
              "      <td>0.134</td>\n",
              "      <td>29</td>\n",
              "      <td>0</td>\n",
              "    </tr>\n",
              "    <tr>\n",
              "      <th>8</th>\n",
              "      <td>2.0</td>\n",
              "      <td>197</td>\n",
              "      <td>NaN</td>\n",
              "      <td>45</td>\n",
              "      <td>543.0</td>\n",
              "      <td>30.5</td>\n",
              "      <td>0.158</td>\n",
              "      <td>53</td>\n",
              "      <td>1</td>\n",
              "    </tr>\n",
              "    <tr>\n",
              "      <th>9</th>\n",
              "      <td>8.0</td>\n",
              "      <td>125</td>\n",
              "      <td>NaN</td>\n",
              "      <td>0</td>\n",
              "      <td>0.0</td>\n",
              "      <td>0.0</td>\n",
              "      <td>0.232</td>\n",
              "      <td>54</td>\n",
              "      <td>1</td>\n",
              "    </tr>\n",
              "  </tbody>\n",
              "</table>\n",
              "</div>\n",
              "      <button class=\"colab-df-convert\" onclick=\"convertToInteractive('df-e3fbe53d-ded8-4c22-b62f-f5346290a635')\"\n",
              "              title=\"Convert this dataframe to an interactive table.\"\n",
              "              style=\"display:none;\">\n",
              "        \n",
              "  <svg xmlns=\"http://www.w3.org/2000/svg\" height=\"24px\"viewBox=\"0 0 24 24\"\n",
              "       width=\"24px\">\n",
              "    <path d=\"M0 0h24v24H0V0z\" fill=\"none\"/>\n",
              "    <path d=\"M18.56 5.44l.94 2.06.94-2.06 2.06-.94-2.06-.94-.94-2.06-.94 2.06-2.06.94zm-11 1L8.5 8.5l.94-2.06 2.06-.94-2.06-.94L8.5 2.5l-.94 2.06-2.06.94zm10 10l.94 2.06.94-2.06 2.06-.94-2.06-.94-.94-2.06-.94 2.06-2.06.94z\"/><path d=\"M17.41 7.96l-1.37-1.37c-.4-.4-.92-.59-1.43-.59-.52 0-1.04.2-1.43.59L10.3 9.45l-7.72 7.72c-.78.78-.78 2.05 0 2.83L4 21.41c.39.39.9.59 1.41.59.51 0 1.02-.2 1.41-.59l7.78-7.78 2.81-2.81c.8-.78.8-2.07 0-2.86zM5.41 20L4 18.59l7.72-7.72 1.47 1.35L5.41 20z\"/>\n",
              "  </svg>\n",
              "      </button>\n",
              "      \n",
              "  <style>\n",
              "    .colab-df-container {\n",
              "      display:flex;\n",
              "      flex-wrap:wrap;\n",
              "      gap: 12px;\n",
              "    }\n",
              "\n",
              "    .colab-df-convert {\n",
              "      background-color: #E8F0FE;\n",
              "      border: none;\n",
              "      border-radius: 50%;\n",
              "      cursor: pointer;\n",
              "      display: none;\n",
              "      fill: #1967D2;\n",
              "      height: 32px;\n",
              "      padding: 0 0 0 0;\n",
              "      width: 32px;\n",
              "    }\n",
              "\n",
              "    .colab-df-convert:hover {\n",
              "      background-color: #E2EBFA;\n",
              "      box-shadow: 0px 1px 2px rgba(60, 64, 67, 0.3), 0px 1px 3px 1px rgba(60, 64, 67, 0.15);\n",
              "      fill: #174EA6;\n",
              "    }\n",
              "\n",
              "    [theme=dark] .colab-df-convert {\n",
              "      background-color: #3B4455;\n",
              "      fill: #D2E3FC;\n",
              "    }\n",
              "\n",
              "    [theme=dark] .colab-df-convert:hover {\n",
              "      background-color: #434B5C;\n",
              "      box-shadow: 0px 1px 3px 1px rgba(0, 0, 0, 0.15);\n",
              "      filter: drop-shadow(0px 1px 2px rgba(0, 0, 0, 0.3));\n",
              "      fill: #FFFFFF;\n",
              "    }\n",
              "  </style>\n",
              "\n",
              "      <script>\n",
              "        const buttonEl =\n",
              "          document.querySelector('#df-e3fbe53d-ded8-4c22-b62f-f5346290a635 button.colab-df-convert');\n",
              "        buttonEl.style.display =\n",
              "          google.colab.kernel.accessAllowed ? 'block' : 'none';\n",
              "\n",
              "        async function convertToInteractive(key) {\n",
              "          const element = document.querySelector('#df-e3fbe53d-ded8-4c22-b62f-f5346290a635');\n",
              "          const dataTable =\n",
              "            await google.colab.kernel.invokeFunction('convertToInteractive',\n",
              "                                                     [key], {});\n",
              "          if (!dataTable) return;\n",
              "\n",
              "          const docLinkHtml = 'Like what you see? Visit the ' +\n",
              "            '<a target=\"_blank\" href=https://colab.research.google.com/notebooks/data_table.ipynb>data table notebook</a>'\n",
              "            + ' to learn more about interactive tables.';\n",
              "          element.innerHTML = '';\n",
              "          dataTable['output_type'] = 'display_data';\n",
              "          await google.colab.output.renderOutput(dataTable, element);\n",
              "          const docLink = document.createElement('div');\n",
              "          docLink.innerHTML = docLinkHtml;\n",
              "          element.appendChild(docLink);\n",
              "        }\n",
              "      </script>\n",
              "    </div>\n",
              "  </div>\n",
              "  "
            ]
          },
          "metadata": {},
          "execution_count": 8
        }
      ],
      "source": [
        "# Regarder dans la base\n",
        "\n",
        "raw_data.head(10)"
      ]
    },
    {
      "cell_type": "markdown",
      "metadata": {
        "id": "dGxWWznimNRP"
      },
      "source": [
        "## 3- Afficher les 10 dernières lignes de la raw_data"
      ]
    },
    {
      "cell_type": "code",
      "execution_count": null,
      "metadata": {
        "colab": {
          "base_uri": "https://localhost:8080/",
          "height": 407
        },
        "id": "2Ks64dVemNRP",
        "outputId": "8e79e80b-bb87-45a3-bf99-433e0c6b6ea7"
      },
      "outputs": [
        {
          "output_type": "execute_result",
          "data": {
            "text/plain": [
              "     Pregnancies  Glucose  BloodPressure  SkinThickness  Insulin   BMI  \\\n",
              "758          1.0      106           76.0              0      0.0  37.5   \n",
              "759          6.0      190           92.0              0      0.0  35.5   \n",
              "760          2.0       88           58.0             26     16.0  28.4   \n",
              "761          9.0      170           74.0             31      0.0  44.0   \n",
              "762          9.0       89           62.0              0      0.0  22.5   \n",
              "763         10.0      101           76.0             48    180.0  32.9   \n",
              "764          2.0      122           70.0             27      0.0  36.8   \n",
              "765          5.0      121           72.0             23    112.0  26.2   \n",
              "766          1.0      126           60.0              0      0.0  30.1   \n",
              "767          1.0       93           70.0             31      0.0  30.4   \n",
              "\n",
              "     DiabetesPedigreeFunction  Age  Outcome  \n",
              "758                     0.197   26        0  \n",
              "759                     0.278   66        1  \n",
              "760                     0.766   22        0  \n",
              "761                     0.403   43        1  \n",
              "762                     0.142   33        0  \n",
              "763                     0.171   63        0  \n",
              "764                     0.340   27        0  \n",
              "765                     0.245   30        0  \n",
              "766                     0.349   47        1  \n",
              "767                     0.315   23        0  "
            ],
            "text/html": [
              "\n",
              "  <div id=\"df-b0a9cbb8-ba38-4dc5-b405-1914fd0757d1\">\n",
              "    <div class=\"colab-df-container\">\n",
              "      <div>\n",
              "<style scoped>\n",
              "    .dataframe tbody tr th:only-of-type {\n",
              "        vertical-align: middle;\n",
              "    }\n",
              "\n",
              "    .dataframe tbody tr th {\n",
              "        vertical-align: top;\n",
              "    }\n",
              "\n",
              "    .dataframe thead th {\n",
              "        text-align: right;\n",
              "    }\n",
              "</style>\n",
              "<table border=\"1\" class=\"dataframe\">\n",
              "  <thead>\n",
              "    <tr style=\"text-align: right;\">\n",
              "      <th></th>\n",
              "      <th>Pregnancies</th>\n",
              "      <th>Glucose</th>\n",
              "      <th>BloodPressure</th>\n",
              "      <th>SkinThickness</th>\n",
              "      <th>Insulin</th>\n",
              "      <th>BMI</th>\n",
              "      <th>DiabetesPedigreeFunction</th>\n",
              "      <th>Age</th>\n",
              "      <th>Outcome</th>\n",
              "    </tr>\n",
              "  </thead>\n",
              "  <tbody>\n",
              "    <tr>\n",
              "      <th>758</th>\n",
              "      <td>1.0</td>\n",
              "      <td>106</td>\n",
              "      <td>76.0</td>\n",
              "      <td>0</td>\n",
              "      <td>0.0</td>\n",
              "      <td>37.5</td>\n",
              "      <td>0.197</td>\n",
              "      <td>26</td>\n",
              "      <td>0</td>\n",
              "    </tr>\n",
              "    <tr>\n",
              "      <th>759</th>\n",
              "      <td>6.0</td>\n",
              "      <td>190</td>\n",
              "      <td>92.0</td>\n",
              "      <td>0</td>\n",
              "      <td>0.0</td>\n",
              "      <td>35.5</td>\n",
              "      <td>0.278</td>\n",
              "      <td>66</td>\n",
              "      <td>1</td>\n",
              "    </tr>\n",
              "    <tr>\n",
              "      <th>760</th>\n",
              "      <td>2.0</td>\n",
              "      <td>88</td>\n",
              "      <td>58.0</td>\n",
              "      <td>26</td>\n",
              "      <td>16.0</td>\n",
              "      <td>28.4</td>\n",
              "      <td>0.766</td>\n",
              "      <td>22</td>\n",
              "      <td>0</td>\n",
              "    </tr>\n",
              "    <tr>\n",
              "      <th>761</th>\n",
              "      <td>9.0</td>\n",
              "      <td>170</td>\n",
              "      <td>74.0</td>\n",
              "      <td>31</td>\n",
              "      <td>0.0</td>\n",
              "      <td>44.0</td>\n",
              "      <td>0.403</td>\n",
              "      <td>43</td>\n",
              "      <td>1</td>\n",
              "    </tr>\n",
              "    <tr>\n",
              "      <th>762</th>\n",
              "      <td>9.0</td>\n",
              "      <td>89</td>\n",
              "      <td>62.0</td>\n",
              "      <td>0</td>\n",
              "      <td>0.0</td>\n",
              "      <td>22.5</td>\n",
              "      <td>0.142</td>\n",
              "      <td>33</td>\n",
              "      <td>0</td>\n",
              "    </tr>\n",
              "    <tr>\n",
              "      <th>763</th>\n",
              "      <td>10.0</td>\n",
              "      <td>101</td>\n",
              "      <td>76.0</td>\n",
              "      <td>48</td>\n",
              "      <td>180.0</td>\n",
              "      <td>32.9</td>\n",
              "      <td>0.171</td>\n",
              "      <td>63</td>\n",
              "      <td>0</td>\n",
              "    </tr>\n",
              "    <tr>\n",
              "      <th>764</th>\n",
              "      <td>2.0</td>\n",
              "      <td>122</td>\n",
              "      <td>70.0</td>\n",
              "      <td>27</td>\n",
              "      <td>0.0</td>\n",
              "      <td>36.8</td>\n",
              "      <td>0.340</td>\n",
              "      <td>27</td>\n",
              "      <td>0</td>\n",
              "    </tr>\n",
              "    <tr>\n",
              "      <th>765</th>\n",
              "      <td>5.0</td>\n",
              "      <td>121</td>\n",
              "      <td>72.0</td>\n",
              "      <td>23</td>\n",
              "      <td>112.0</td>\n",
              "      <td>26.2</td>\n",
              "      <td>0.245</td>\n",
              "      <td>30</td>\n",
              "      <td>0</td>\n",
              "    </tr>\n",
              "    <tr>\n",
              "      <th>766</th>\n",
              "      <td>1.0</td>\n",
              "      <td>126</td>\n",
              "      <td>60.0</td>\n",
              "      <td>0</td>\n",
              "      <td>0.0</td>\n",
              "      <td>30.1</td>\n",
              "      <td>0.349</td>\n",
              "      <td>47</td>\n",
              "      <td>1</td>\n",
              "    </tr>\n",
              "    <tr>\n",
              "      <th>767</th>\n",
              "      <td>1.0</td>\n",
              "      <td>93</td>\n",
              "      <td>70.0</td>\n",
              "      <td>31</td>\n",
              "      <td>0.0</td>\n",
              "      <td>30.4</td>\n",
              "      <td>0.315</td>\n",
              "      <td>23</td>\n",
              "      <td>0</td>\n",
              "    </tr>\n",
              "  </tbody>\n",
              "</table>\n",
              "</div>\n",
              "      <button class=\"colab-df-convert\" onclick=\"convertToInteractive('df-b0a9cbb8-ba38-4dc5-b405-1914fd0757d1')\"\n",
              "              title=\"Convert this dataframe to an interactive table.\"\n",
              "              style=\"display:none;\">\n",
              "        \n",
              "  <svg xmlns=\"http://www.w3.org/2000/svg\" height=\"24px\"viewBox=\"0 0 24 24\"\n",
              "       width=\"24px\">\n",
              "    <path d=\"M0 0h24v24H0V0z\" fill=\"none\"/>\n",
              "    <path d=\"M18.56 5.44l.94 2.06.94-2.06 2.06-.94-2.06-.94-.94-2.06-.94 2.06-2.06.94zm-11 1L8.5 8.5l.94-2.06 2.06-.94-2.06-.94L8.5 2.5l-.94 2.06-2.06.94zm10 10l.94 2.06.94-2.06 2.06-.94-2.06-.94-.94-2.06-.94 2.06-2.06.94z\"/><path d=\"M17.41 7.96l-1.37-1.37c-.4-.4-.92-.59-1.43-.59-.52 0-1.04.2-1.43.59L10.3 9.45l-7.72 7.72c-.78.78-.78 2.05 0 2.83L4 21.41c.39.39.9.59 1.41.59.51 0 1.02-.2 1.41-.59l7.78-7.78 2.81-2.81c.8-.78.8-2.07 0-2.86zM5.41 20L4 18.59l7.72-7.72 1.47 1.35L5.41 20z\"/>\n",
              "  </svg>\n",
              "      </button>\n",
              "      \n",
              "  <style>\n",
              "    .colab-df-container {\n",
              "      display:flex;\n",
              "      flex-wrap:wrap;\n",
              "      gap: 12px;\n",
              "    }\n",
              "\n",
              "    .colab-df-convert {\n",
              "      background-color: #E8F0FE;\n",
              "      border: none;\n",
              "      border-radius: 50%;\n",
              "      cursor: pointer;\n",
              "      display: none;\n",
              "      fill: #1967D2;\n",
              "      height: 32px;\n",
              "      padding: 0 0 0 0;\n",
              "      width: 32px;\n",
              "    }\n",
              "\n",
              "    .colab-df-convert:hover {\n",
              "      background-color: #E2EBFA;\n",
              "      box-shadow: 0px 1px 2px rgba(60, 64, 67, 0.3), 0px 1px 3px 1px rgba(60, 64, 67, 0.15);\n",
              "      fill: #174EA6;\n",
              "    }\n",
              "\n",
              "    [theme=dark] .colab-df-convert {\n",
              "      background-color: #3B4455;\n",
              "      fill: #D2E3FC;\n",
              "    }\n",
              "\n",
              "    [theme=dark] .colab-df-convert:hover {\n",
              "      background-color: #434B5C;\n",
              "      box-shadow: 0px 1px 3px 1px rgba(0, 0, 0, 0.15);\n",
              "      filter: drop-shadow(0px 1px 2px rgba(0, 0, 0, 0.3));\n",
              "      fill: #FFFFFF;\n",
              "    }\n",
              "  </style>\n",
              "\n",
              "      <script>\n",
              "        const buttonEl =\n",
              "          document.querySelector('#df-b0a9cbb8-ba38-4dc5-b405-1914fd0757d1 button.colab-df-convert');\n",
              "        buttonEl.style.display =\n",
              "          google.colab.kernel.accessAllowed ? 'block' : 'none';\n",
              "\n",
              "        async function convertToInteractive(key) {\n",
              "          const element = document.querySelector('#df-b0a9cbb8-ba38-4dc5-b405-1914fd0757d1');\n",
              "          const dataTable =\n",
              "            await google.colab.kernel.invokeFunction('convertToInteractive',\n",
              "                                                     [key], {});\n",
              "          if (!dataTable) return;\n",
              "\n",
              "          const docLinkHtml = 'Like what you see? Visit the ' +\n",
              "            '<a target=\"_blank\" href=https://colab.research.google.com/notebooks/data_table.ipynb>data table notebook</a>'\n",
              "            + ' to learn more about interactive tables.';\n",
              "          element.innerHTML = '';\n",
              "          dataTable['output_type'] = 'display_data';\n",
              "          await google.colab.output.renderOutput(dataTable, element);\n",
              "          const docLink = document.createElement('div');\n",
              "          docLink.innerHTML = docLinkHtml;\n",
              "          element.appendChild(docLink);\n",
              "        }\n",
              "      </script>\n",
              "    </div>\n",
              "  </div>\n",
              "  "
            ]
          },
          "metadata": {},
          "execution_count": 9
        }
      ],
      "source": [
        "# Regarder dans la base\n",
        "raw_data.tail(10)"
      ]
    },
    {
      "cell_type": "code",
      "source": [],
      "metadata": {
        "id": "PM8k77u-nO4Q"
      },
      "execution_count": null,
      "outputs": []
    },
    {
      "cell_type": "markdown",
      "metadata": {
        "id": "5UVKiRZKmNRP"
      },
      "source": [
        "## 4- Quelle est la dimension (nombre de lignes et nombre de colonnes) de raw_data ?"
      ]
    },
    {
      "cell_type": "code",
      "execution_count": null,
      "metadata": {
        "colab": {
          "base_uri": "https://localhost:8080/"
        },
        "id": "bUGoONHZmNRP",
        "outputId": "e50cb75c-75d1-46a0-a787-206aa4c8e3aa"
      },
      "outputs": [
        {
          "output_type": "stream",
          "name": "stdout",
          "text": [
            "(768, 9)\n"
          ]
        }
      ],
      "source": [
        "print(raw_data.shape)"
      ]
    },
    {
      "cell_type": "markdown",
      "metadata": {
        "id": "Cvz-P40KmNRP"
      },
      "source": [
        "## 5- Afficher les informations concernant les colonnes et leur type respectif"
      ]
    },
    {
      "cell_type": "code",
      "execution_count": null,
      "metadata": {
        "colab": {
          "base_uri": "https://localhost:8080/"
        },
        "id": "Zm_zgTYsmNRP",
        "outputId": "cc54d3f8-dec0-4a8b-9d49-22a37191da59"
      },
      "outputs": [
        {
          "output_type": "stream",
          "name": "stdout",
          "text": [
            "<class 'pandas.core.frame.DataFrame'>\n",
            "RangeIndex: 768 entries, 0 to 767\n",
            "Data columns (total 9 columns):\n",
            " #   Column                    Non-Null Count  Dtype  \n",
            "---  ------                    --------------  -----  \n",
            " 0   Pregnancies               741 non-null    float64\n",
            " 1   Glucose                   768 non-null    int64  \n",
            " 2   BloodPressure             748 non-null    float64\n",
            " 3   SkinThickness             768 non-null    int64  \n",
            " 4   Insulin                   747 non-null    float64\n",
            " 5   BMI                       768 non-null    float64\n",
            " 6   DiabetesPedigreeFunction  581 non-null    float64\n",
            " 7   Age                       768 non-null    int64  \n",
            " 8   Outcome                   768 non-null    int64  \n",
            "dtypes: float64(5), int64(4)\n",
            "memory usage: 54.1 KB\n"
          ]
        }
      ],
      "source": [
        "raw_data.info()"
      ]
    },
    {
      "cell_type": "markdown",
      "metadata": {
        "id": "ijLmXlQUmNRP"
      },
      "source": [
        "## 6- Combien y-a-t-il de variables numériques"
      ]
    },
    {
      "cell_type": "code",
      "execution_count": null,
      "metadata": {
        "colab": {
          "base_uri": "https://localhost:8080/"
        },
        "id": "-497HK6jmNRP",
        "outputId": "038ec2df-badf-4430-ddad-f725a2a399f1"
      },
      "outputs": [
        {
          "output_type": "stream",
          "name": "stdout",
          "text": [
            "1536\n"
          ]
        }
      ],
      "source": [
        "intcols = raw_data.select_dtypes(include='int64')\n",
        "floatcols = raw_data.select_dtypes(include='float64')\n",
        "\n",
        "print(len(intcols) + len(floatcols))"
      ]
    },
    {
      "cell_type": "code",
      "source": [],
      "metadata": {
        "id": "2xEd57oRpkyg"
      },
      "execution_count": null,
      "outputs": []
    },
    {
      "cell_type": "markdown",
      "metadata": {
        "id": "HyFdsCiWmNRP"
      },
      "source": [
        "## 7- Quelles sont les deux variables ayant le plus de valeurs manquantes"
      ]
    },
    {
      "cell_type": "code",
      "execution_count": null,
      "metadata": {
        "colab": {
          "base_uri": "https://localhost:8080/"
        },
        "id": "2Tq9q0akmNRP",
        "outputId": "1e2a82c4-cc1e-42a2-f422-22e01425ac41"
      },
      "outputs": [
        {
          "output_type": "stream",
          "name": "stdout",
          "text": [
            "<class 'pandas.core.frame.DataFrame'>\n",
            "RangeIndex: 768 entries, 0 to 767\n",
            "Data columns (total 9 columns):\n",
            " #   Column                    Non-Null Count  Dtype  \n",
            "---  ------                    --------------  -----  \n",
            " 0   Pregnancies               741 non-null    float64\n",
            " 1   Glucose                   768 non-null    int64  \n",
            " 2   BloodPressure             748 non-null    float64\n",
            " 3   SkinThickness             768 non-null    int64  \n",
            " 4   Insulin                   747 non-null    float64\n",
            " 5   BMI                       768 non-null    float64\n",
            " 6   DiabetesPedigreeFunction  581 non-null    float64\n",
            " 7   Age                       768 non-null    int64  \n",
            " 8   Outcome                   768 non-null    int64  \n",
            "dtypes: float64(5), int64(4)\n",
            "memory usage: 54.1 KB\n"
          ]
        }
      ],
      "source": [
        "raw_data.info()"
      ]
    },
    {
      "cell_type": "code",
      "execution_count": null,
      "metadata": {
        "colab": {
          "base_uri": "https://localhost:8080/"
        },
        "id": "JgXhctzRmNRP",
        "outputId": "e9223346-7f1c-4c01-a910-51466e9a2e0d"
      },
      "outputs": [
        {
          "output_type": "stream",
          "name": "stdout",
          "text": [
            "Insulin          21\n",
            "BloodPressure    20\n",
            "dtype: int64\n"
          ]
        }
      ],
      "source": [
        "\n",
        "missing_values = raw_data.loc[:, ['Insulin', 'BloodPressure']].isnull().sum().sort_values(ascending=False)\n",
        "print(missing_values)\n"
      ]
    },
    {
      "cell_type": "code",
      "source": [],
      "metadata": {
        "id": "nM1bhxRqtqQn"
      },
      "execution_count": null,
      "outputs": []
    },
    {
      "cell_type": "code",
      "source": [],
      "metadata": {
        "id": "OR-NLE2-q3ay"
      },
      "execution_count": null,
      "outputs": []
    },
    {
      "cell_type": "markdown",
      "metadata": {
        "id": "028FspjgmNRP"
      },
      "source": [
        "## 8- Quelle est la proportion de valeurs manquantes dans les deux variables comportant le moins de valeurs manquantes ?"
      ]
    },
    {
      "cell_type": "code",
      "execution_count": null,
      "metadata": {
        "colab": {
          "base_uri": "https://localhost:8080/"
        },
        "id": "7WyuAdxgmNRP",
        "outputId": "1475395e-d75a-4279-f7f2-8abf1b9f625e"
      },
      "outputs": [
        {
          "output_type": "execute_result",
          "data": {
            "text/plain": [
              "Insulin          0.027344\n",
              "BloodPressure    0.026042\n",
              "dtype: float64"
            ]
          },
          "metadata": {},
          "execution_count": 33
        }
      ],
      "source": [
        "raw_data.loc[:, ['Insulin', 'BloodPressure']].isnull().mean().sort_values(ascending=False)"
      ]
    },
    {
      "cell_type": "markdown",
      "metadata": {
        "id": "8_lQVWDhmNRP"
      },
      "source": [
        "## 9- Convertir la variable \"Pregnancies\" en entier"
      ]
    },
    {
      "cell_type": "code",
      "execution_count": null,
      "metadata": {
        "id": "0egtxu1ZmNRP"
      },
      "outputs": [],
      "source": [
        "raw_data[\"Pregnancies\"].fillna(-999, inplace=True)\n",
        "raw_data[\"Pregnancies\"] = raw_data[\"Pregnancies\"].astype(\"int64\")\n"
      ]
    },
    {
      "cell_type": "code",
      "execution_count": null,
      "metadata": {
        "id": "BrYO-PXJmNRQ"
      },
      "outputs": [],
      "source": []
    },
    {
      "cell_type": "markdown",
      "metadata": {
        "id": "tqU3FQ_smNRQ"
      },
      "source": [
        "## 10- Vérifier que la conversion a bien été faite"
      ]
    },
    {
      "cell_type": "code",
      "execution_count": null,
      "metadata": {
        "colab": {
          "base_uri": "https://localhost:8080/"
        },
        "id": "XfTTtJaumNRQ",
        "outputId": "c546d190-bb2f-454f-ef7a-3e522d3ae56c"
      },
      "outputs": [
        {
          "output_type": "stream",
          "name": "stdout",
          "text": [
            "<class 'pandas.core.frame.DataFrame'>\n",
            "RangeIndex: 768 entries, 0 to 767\n",
            "Data columns (total 9 columns):\n",
            " #   Column                    Non-Null Count  Dtype  \n",
            "---  ------                    --------------  -----  \n",
            " 0   Pregnancies               768 non-null    int64  \n",
            " 1   Glucose                   768 non-null    int64  \n",
            " 2   BloodPressure             748 non-null    float64\n",
            " 3   SkinThickness             768 non-null    int64  \n",
            " 4   Insulin                   747 non-null    float64\n",
            " 5   BMI                       768 non-null    float64\n",
            " 6   DiabetesPedigreeFunction  581 non-null    float64\n",
            " 7   Age                       768 non-null    int64  \n",
            " 8   Outcome                   768 non-null    int64  \n",
            "dtypes: float64(4), int64(5)\n",
            "memory usage: 54.1 KB\n"
          ]
        }
      ],
      "source": [
        "raw_data.info()"
      ]
    },
    {
      "cell_type": "markdown",
      "metadata": {
        "id": "yKJY45CtmNRQ"
      },
      "source": [
        "## 11- imputer la variables Pregnancies par la médiane "
      ]
    },
    {
      "cell_type": "code",
      "execution_count": null,
      "metadata": {
        "colab": {
          "base_uri": "https://localhost:8080/"
        },
        "id": "YoCZUW20mNRQ",
        "outputId": "31def40b-43a5-43b5-cc60-2cb80d12cda4"
      },
      "outputs": [
        {
          "output_type": "stream",
          "name": "stdout",
          "text": [
            "(561, 9)\n"
          ]
        }
      ],
      "source": [
        "# data_supp_lignes = raw_data.dropna(axis=0)\n",
        "# print(data_supp_lignes.shape)\n",
        "\n"
      ]
    },
    {
      "cell_type": "code",
      "source": [
        "\n",
        "# data_supp_col = raw_data.dropna(axis=1)\n",
        "\n",
        "# print(data_supp_col.shape)"
      ],
      "metadata": {
        "colab": {
          "base_uri": "https://localhost:8080/"
        },
        "id": "fWHi4gpavOYg",
        "outputId": "9c47bc66-8ecc-4688-93d9-112e0db82aa5"
      },
      "execution_count": null,
      "outputs": [
        {
          "output_type": "stream",
          "name": "stdout",
          "text": [
            "(768, 5)\n"
          ]
        }
      ]
    },
    {
      "cell_type": "code",
      "source": [
        "missingsvalues = raw_data.select_dtypes(include='float64').columns\n",
        "\n",
        "data_median =  raw_data[\"Pregnancies\"].fillna(raw_data[\"Pregnancies\"].median())\n",
        "data_median.info()"
      ],
      "metadata": {
        "colab": {
          "base_uri": "https://localhost:8080/"
        },
        "id": "O649E8Utw9RP",
        "outputId": "f8d5f829-42d5-476e-81c3-7fffdb57f215"
      },
      "execution_count": null,
      "outputs": [
        {
          "output_type": "stream",
          "name": "stdout",
          "text": [
            "0       6\n",
            "1       1\n",
            "2       8\n",
            "3       1\n",
            "4       0\n",
            "       ..\n",
            "763    10\n",
            "764     2\n",
            "765     5\n",
            "766     1\n",
            "767     1\n",
            "Name: Pregnancies, Length: 768, dtype: Int64\n",
            "<class 'pandas.core.series.Series'>\n",
            "RangeIndex: 768 entries, 0 to 767\n",
            "Series name: Pregnancies\n",
            "Non-Null Count  Dtype\n",
            "--------------  -----\n",
            "768 non-null    Int64\n",
            "dtypes: Int64(1)\n",
            "memory usage: 6.9 KB\n"
          ]
        }
      ]
    },
    {
      "cell_type": "code",
      "source": [],
      "metadata": {
        "id": "ecbPoFQYy3HU"
      },
      "execution_count": null,
      "outputs": []
    },
    {
      "cell_type": "code",
      "source": [],
      "metadata": {
        "id": "tFkqYNhWxm83"
      },
      "execution_count": null,
      "outputs": []
    },
    {
      "cell_type": "markdown",
      "metadata": {
        "id": "sdh8-vKrmNRQ"
      },
      "source": [
        "## 12- Vérifier que l'imputation a bien été faite"
      ]
    },
    {
      "cell_type": "code",
      "execution_count": null,
      "metadata": {
        "id": "r3cZshgUmNRQ"
      },
      "outputs": [],
      "source": []
    },
    {
      "cell_type": "markdown",
      "metadata": {
        "id": "JK6hd9ofmNRQ"
      },
      "source": [
        "## 13- Comment la moyenne et la médiane de la variable Pregnancies ont été modifiées après l'imputation"
      ]
    },
    {
      "cell_type": "code",
      "execution_count": null,
      "metadata": {
        "id": "QazngWQpmNRQ"
      },
      "outputs": [],
      "source": []
    },
    {
      "cell_type": "markdown",
      "metadata": {
        "id": "WQWAmmN9mNRQ"
      },
      "source": [
        "## 14- Imputer toutes les autres valeurs manquantes par la stratégie de votre choix et explique"
      ]
    },
    {
      "cell_type": "markdown",
      "metadata": {
        "id": "9zcOW4uQmNRQ"
      },
      "source": [
        "### Manuellement"
      ]
    },
    {
      "cell_type": "code",
      "execution_count": null,
      "metadata": {
        "id": "lQXmvR2ImNRQ"
      },
      "outputs": [],
      "source": []
    },
    {
      "cell_type": "markdown",
      "metadata": {
        "id": "6LyURkC7mNRQ"
      },
      "source": [
        "### Automatisé"
      ]
    },
    {
      "cell_type": "code",
      "execution_count": null,
      "metadata": {
        "id": "91lb1MofmNRQ"
      },
      "outputs": [],
      "source": []
    },
    {
      "cell_type": "code",
      "execution_count": null,
      "metadata": {
        "id": "yAUHngEZmNRQ"
      },
      "outputs": [],
      "source": []
    },
    {
      "cell_type": "markdown",
      "metadata": {
        "id": "HaokE473mNRQ"
      },
      "source": [
        "## 15 Sélectionner toutes les variables sauf outcome "
      ]
    },
    {
      "cell_type": "code",
      "execution_count": null,
      "metadata": {
        "id": "7kf6B84omNRQ"
      },
      "outputs": [],
      "source": []
    },
    {
      "cell_type": "markdown",
      "metadata": {
        "id": "-wwmw89bmNRQ"
      },
      "source": [
        "## 16 travailler uniquement les personnes ayant eu au moins une grossesse et la mettre dans une nouvelle table de données nommée donnees_propres"
      ]
    },
    {
      "cell_type": "code",
      "execution_count": null,
      "metadata": {
        "id": "P7MA7NwamNRR"
      },
      "outputs": [],
      "source": []
    },
    {
      "cell_type": "markdown",
      "metadata": {
        "id": "ZOjq_AhcmNRR"
      },
      "source": [
        "## 17 calculer et afficher la table de correlation de la table donnees_propre"
      ]
    },
    {
      "cell_type": "code",
      "execution_count": null,
      "metadata": {
        "id": "mX-olgtKmNRR"
      },
      "outputs": [],
      "source": []
    },
    {
      "cell_type": "markdown",
      "metadata": {
        "id": "BXmJ8SCvmNRR"
      },
      "source": [
        "## 18 afficher le graphe de la table de correspondance"
      ]
    },
    {
      "cell_type": "code",
      "execution_count": null,
      "metadata": {
        "id": "CLEyWfGWmNRR"
      },
      "outputs": [],
      "source": []
    },
    {
      "cell_type": "markdown",
      "metadata": {
        "id": "Hygqgt02mNRR"
      },
      "source": [
        "## 19 afficher les statistiques descriptives des variables numériques"
      ]
    },
    {
      "cell_type": "code",
      "execution_count": null,
      "metadata": {
        "id": "9glV92w5mNRR"
      },
      "outputs": [],
      "source": []
    },
    {
      "cell_type": "markdown",
      "metadata": {
        "id": "FCjC3bP3mNRR"
      },
      "source": [
        "## 20- Recoder la variable Age de la façon suivante en age_rec\n",
        "\n",
        "    - si age < 18 alors \"mineurs\"\n",
        "    - si age compris entre 18 et 25 alors \"juniors\"\n",
        "    - si age comrpis entre 25 et 50 alors \"jeunes\"\n",
        "    - si age > 50 alors \"senior\"\n"
      ]
    },
    {
      "cell_type": "code",
      "execution_count": null,
      "metadata": {
        "id": "ncZG9pqsmNRR"
      },
      "outputs": [],
      "source": [
        "\n"
      ]
    },
    {
      "cell_type": "markdown",
      "metadata": {
        "id": "dS9MXz_MmNRR"
      },
      "source": [
        "\n",
        "## 21- Afficher le décompte de \"age_rec\""
      ]
    },
    {
      "cell_type": "markdown",
      "metadata": {
        "id": "1xrCZf7bmNRR"
      },
      "source": [
        "## 22- Faire le graphique du coude sur les données propres pour la modelisation du Kmeans"
      ]
    },
    {
      "cell_type": "markdown",
      "metadata": {
        "id": "yjRyRmazmNRR"
      },
      "source": [
        "## 23- Quel est le nombre de cluster opimal et l'appliquer au kmeans"
      ]
    },
    {
      "cell_type": "markdown",
      "metadata": {
        "id": "odhvmgdfmNRR"
      },
      "source": [
        "## 24- Quelle est la valeur de la silhouette du kmeans"
      ]
    },
    {
      "cell_type": "markdown",
      "metadata": {
        "id": "F6ABBBbWmNRR"
      },
      "source": [
        "## 25- Afficher le graphique des silhouettes"
      ]
    },
    {
      "cell_type": "markdown",
      "metadata": {
        "id": "z6fWs1MrmNRR"
      },
      "source": [
        "## 26- Concatener les clusters avec la base des données propres"
      ]
    },
    {
      "cell_type": "markdown",
      "metadata": {
        "id": "5sYNj8eumNRR"
      },
      "source": [
        "## 27- Afficher le décompte des clusters via Kmeans"
      ]
    },
    {
      "cell_type": "markdown",
      "metadata": {
        "id": "CVSoSoPBmNRS"
      },
      "source": [
        "## 28- Faire quelques statistiques descriptives sur le cluster contenant le plus d'individus et commenter"
      ]
    },
    {
      "cell_type": "markdown",
      "metadata": {
        "id": "gWZIF4HsmNRS"
      },
      "source": [
        "## 29- Modeliser avec DBscan"
      ]
    },
    {
      "cell_type": "markdown",
      "metadata": {
        "id": "ywNatuGAmNRS"
      },
      "source": [
        "## 30- Calculer la silhouette moyenne du modele"
      ]
    },
    {
      "cell_type": "markdown",
      "metadata": {
        "id": "wlCxKd2VmNRS"
      },
      "source": [
        "## 31- Faire le graphique des clusters obtenus avec les variables de votre choix"
      ]
    },
    {
      "cell_type": "markdown",
      "metadata": {
        "id": "dtrTmqCQmNRS"
      },
      "source": [
        "## 32- Concatener les clusters avec la base des données propres contenant également les clusters issus des kmeans"
      ]
    },
    {
      "cell_type": "markdown",
      "metadata": {
        "id": "gfPz7W1MmNRS"
      },
      "source": [
        "## 33- Afficher le décompte des clusters via dbscan"
      ]
    },
    {
      "cell_type": "markdown",
      "metadata": {
        "id": "0kfoF4TqmNRS"
      },
      "source": [
        "## 34- Faire quelques statistiques descriptives sur le cluster contenant les outliers et commenter"
      ]
    },
    {
      "cell_type": "markdown",
      "metadata": {
        "id": "gMXbz_QzmNRS"
      },
      "source": [
        "## 35- Modeliser via Isolation Forest"
      ]
    },
    {
      "cell_type": "markdown",
      "metadata": {
        "id": "I_tmyUs6mNRS"
      },
      "source": [
        "## 36- Combien de clusters avez-vous obtenus ?"
      ]
    },
    {
      "cell_type": "markdown",
      "metadata": {
        "id": "SDfWwKZomNRS"
      },
      "source": [
        "## 37- Afficher le graphique des clusters obtenus via Iso Forest avec les variables de votre choix"
      ]
    },
    {
      "cell_type": "markdown",
      "metadata": {
        "id": "9W6CIGMBmNRT"
      },
      "source": [
        "## 38 Concatener les clusters avec la base des données propres contenant également les clusters issus des kmeans et dbscan"
      ]
    },
    {
      "cell_type": "markdown",
      "metadata": {
        "id": "nrpKAjzomNRT"
      },
      "source": [
        "## 39- Est- ce que ce sont les mêmes individus qu'on retrouve dans les outliers dbscan et les outliers isolation forest ?"
      ]
    },
    {
      "cell_type": "markdown",
      "metadata": {
        "id": "8rd6AIYLmNRT"
      },
      "source": [
        "## 40- Quel est selon vous, le meilleur modèle entre Kmean et dbscan ? justifiez"
      ]
    }
  ],
  "metadata": {
    "kernelspec": {
      "display_name": "Python 3",
      "language": "python",
      "name": "python3"
    },
    "language_info": {
      "codemirror_mode": {
        "name": "ipython",
        "version": 3
      },
      "file_extension": ".py",
      "mimetype": "text/x-python",
      "name": "python",
      "nbconvert_exporter": "python",
      "pygments_lexer": "ipython3",
      "version": "3.8.5"
    },
    "colab": {
      "provenance": []
    }
  },
  "nbformat": 4,
  "nbformat_minor": 0
}